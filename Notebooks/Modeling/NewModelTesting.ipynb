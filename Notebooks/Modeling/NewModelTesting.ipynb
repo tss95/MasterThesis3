{
 "cells": [
  {
   "cell_type": "code",
   "execution_count": 1,
   "metadata": {},
   "outputs": [
    {
     "name": "stderr",
     "output_type": "stream",
     "text": [
      "Using TensorFlow backend.\n"
     ]
    }
   ],
   "source": [
    "import numpy as np\n",
    "import pandas as pd\n",
    "import h5py\n",
    "import csv\n",
    "from DataGenerator import DataGenerator\n",
    "from Models import Models\n",
    "from LoadData import LoadData\n",
    "from BaselineHelperFunctions import BaselineHelperFunctions\n",
    "from RandomGridSearch import RandomGridSearch\n",
    "import tensorflow as tf"
   ]
  },
  {
   "cell_type": "code",
   "execution_count": 2,
   "metadata": {},
   "outputs": [],
   "source": [
    "csv_root = 'csv_folder_3_class'\n",
    "full_data_csv, train_csv, val_csv, test_csv = LoadData(csv_root, isBalanced = True).getData()\n",
    "data_gen = DataGenerator(csv_root, train_csv, val_csv, test_csv)\n",
    "full_ds = data_gen.load_dataset(full_data_csv)\n",
    "train_ds = data_gen.load_dataset(train_csv)\n",
    "val_ds = data_gen.load_dataset(val_csv)\n",
    "test_ds = data_gen.load_dataset(test_csv)\n"
   ]
  },
  {
   "cell_type": "code",
   "execution_count": 3,
   "metadata": {},
   "outputs": [
    {
     "name": "stdout",
     "output_type": "stream",
     "text": [
      "Model: \"sequential_1\"\n",
      "_________________________________________________________________\n",
      "Layer (type)                 Output Shape              Param #   \n",
      "=================================================================\n",
      "conv1d_1 (Conv1D)            (128, 3, 16)              960176    \n",
      "_________________________________________________________________\n",
      "batch_normalization_1 (Batch (128, 3, 16)              64        \n",
      "_________________________________________________________________\n",
      "flatten_1 (Flatten)          (128, 48)                 0         \n",
      "_________________________________________________________________\n",
      "dense_1 (Dense)              (128, 3)                  147       \n",
      "=================================================================\n",
      "Total params: 960,387\n",
      "Trainable params: 960,355\n",
      "Non-trainable params: 32\n",
      "_________________________________________________________________\n"
     ]
    }
   ],
   "source": [
    "model_nr = 5\n",
    "    \n",
    "batch_size = 128\n",
    "epochs = 100\n",
    "learning_rate = 0.0001\n",
    "opt = tf.keras.optimizers.RMSprop(learning_rate=learning_rate)\n",
    "activation = 'tanh'\n",
    "dropout_rate = 0.2\n",
    "l1_r = 0.2\n",
    "l2_r = 0.001\n",
    "start_neurons = 512\n",
    "\n",
    "test = False\n",
    "num_classes = 3\n",
    "detrend = False\n",
    "\n",
    "\n",
    "num_ds, channels, timesteps = data_gen.get_trace_shape_no_cast(train_ds)\n",
    "\n",
    "build_model_args = {'model_nr' : model_nr,\n",
    "                    'input_shape' : (batch_size, channels, timesteps),\n",
    "                    'num_classes' : num_classes,\n",
    "                    'dropout_rate' : dropout_rate,\n",
    "                    'activation' : activation,\n",
    "                    'l2_r' : l2_r,\n",
    "                    'l1_r' : l1_r,\n",
    "                    'full_regularizer' : True,\n",
    "                    'start_neurons' : start_neurons,\n",
    "                    'filters' : 16,\n",
    "                    'kernel_size' : 10,\n",
    "                    'padding' : 'same'}\n",
    "model = Models(**build_model_args).model\n",
    "\n",
    "model_args = {'loss' : \"categorical_crossentropy\",\n",
    "              'optimizer' : opt,\n",
    "              'metrics' : [\"accuracy\",\"MSE\",\n",
    "                           tf.keras.metrics.Precision(thresholds=None, top_k=None, class_id=None, name=None, dtype=None),\n",
    "                           tf.keras.metrics.Recall(thresholds=None, top_k=None, class_id=None, name=None, dtype=None)]}\n",
    "model.compile(**model_args)"
   ]
  },
  {
   "cell_type": "code",
   "execution_count": null,
   "metadata": {},
   "outputs": [],
   "source": []
  }
 ],
 "metadata": {
  "kernelspec": {
   "display_name": "FastAI 2",
   "language": "python",
   "name": "fastai2"
  },
  "language_info": {
   "codemirror_mode": {
    "name": "ipython",
    "version": 3
   },
   "file_extension": ".py",
   "mimetype": "text/x-python",
   "name": "python",
   "nbconvert_exporter": "python",
   "pygments_lexer": "ipython3",
   "version": "3.6.10"
  }
 },
 "nbformat": 4,
 "nbformat_minor": 4
}
