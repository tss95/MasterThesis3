{
 "cells": [
  {
   "cell_type": "code",
   "execution_count": 1,
   "id": "identified-boutique",
   "metadata": {},
   "outputs": [
    {
     "name": "stdout",
     "output_type": "stream",
     "text": [
      "1 Physical GPUs, 1 Logical GPUs\n",
      "WARNING:tensorflow:From /home/tord/miniconda3/envs/thesis/lib/python3.8/site-packages/tensorflow/python/util/module_wrapper.py:49: The name tf.keras.layers.CuDNNLSTM is deprecated. Please use tf.compat.v1.keras.layers.CuDNNLSTM instead.\n",
      "\n",
      "INFO:tensorflow:Mixed precision compatibility check (mixed_float16): OK\n",
      "Your GPU will likely run quickly with dtype policy mixed_float16 as it has compute capability of at least 7.0. Your GPU: GeForce RTX 3090, compute capability 8.6\n"
     ]
    }
   ],
   "source": [
    "import numpy as np\n",
    "import os\n",
    "import sys\n",
    "import pandas as pd\n",
    "import seaborn as sns\n",
    "\n",
    "import pylab as pl\n",
    "import h5py\n",
    "\n",
    "import tensorflow as tf\n",
    "from tensorflow.keras import mixed_precision\n",
    "\n",
    "os.environ['TF_CPP_MIN_LOG_LEVEL']='2'\n",
    "os.environ['CUDA_VISIBLE_DEVICES']=\"0\" \n",
    "\n",
    "gpus = tf.config.experimental.list_physical_devices('GPU')\n",
    "if gpus:\n",
    "  try:\n",
    "    # Currently, memory growth needs to be the same across GPUs\n",
    "    for gpu in gpus:\n",
    "      tf.config.experimental.set_memory_growth(gpu, True)\n",
    "    logical_gpus = tf.config.experimental.list_logical_devices('GPU')\n",
    "    print(len(gpus), \"Physical GPUs,\", len(logical_gpus), \"Logical GPUs\")\n",
    "  except RuntimeError as e:\n",
    "    # Memory growth must be set before GPUs have been initialized\n",
    "    print(e)\n",
    "\n",
    "\n",
    "from sklearn.metrics import confusion_matrix\n",
    "\n",
    "base_dir = '/media/tord/T7/Thesis_ssd/MasterThesis3'\n",
    "os.chdir(base_dir)\n",
    "from Classes.DataProcessing.LoadData import LoadData\n",
    "from Classes.DataProcessing.HelperFunctions import HelperFunctions\n",
    "from Classes.DataProcessing.DataHandler import DataHandler\n",
    "from Classes.Modeling.DynamicModels import DynamicModels\n",
    "from Classes.Modeling.TrainSingleModelRam import TrainSingleModelRam\n",
    "from Classes.DataProcessing.RamLoader import RamLoader\n",
    "import json\n",
    "\n",
    "import gc\n",
    "\n",
    "import datetime\n",
    "import re\n",
    "from livelossplot import PlotLossesKeras\n",
    "from GlobalUtils import GlobalUtils\n",
    "from Classes.Modeling.CustomCallback import CustomCallback\n",
    "from tensorflow.keras.callbacks import EarlyStopping\n",
    "utils = GlobalUtils()\n",
    "\n",
    "from tensorflow.keras.utils import GeneratorEnqueuer\n",
    "\n",
    "\n",
    "\n",
    "\n",
    "\n",
    "\n",
    "import sys\n",
    "\n",
    "\n",
    "helper = HelperFunctions()\n",
    "\n",
    "tf.config.optimizer.set_jit(True)\n",
    "mixed_precision.set_global_policy('mixed_float16')"
   ]
  },
  {
   "cell_type": "code",
   "execution_count": 2,
   "id": "dress-cover",
   "metadata": {},
   "outputs": [
    {
     "name": "stdout",
     "output_type": "stream",
     "text": [
      "2 2\n",
      "Mapping train redundancy: : [--------------------------------------->] 100 %\n",
      "\n",
      "Mapping validation redundancy: : [--------------------------------------->] 100 %\n",
      "\n",
      "Mapping test redundancy: : [--------------------------------------->] 100 %\n",
      "\n",
      "\n",
      "\n",
      "Loaded explosion and earthquake dataset:\n",
      "Evenly balanced among classes in the train set.\n",
      "Distribution (Label: (counts, proportion)) of\n",
      "Train ds:\n",
      "earthquake: (20507, 0.4987)  |  explosion: (20616, 0.5013)  \n",
      "Val ds:\n",
      "earthquake: (255, 0.0762)  |  explosion: (3092, 0.9238)  \n",
      "Test ds:\n",
      "earthquake: (176, 0.0789)  |  explosion: (2055, 0.9211)  \n"
     ]
    }
   ],
   "source": [
    "load_args = {\n",
    "    'earth_explo_only' : True,\n",
    "    'noise_earth_only' : False,\n",
    "    'noise_not_noise' : False,\n",
    "    'downsample' : True,\n",
    "    'upsample' : True,\n",
    "    'frac_diff' : 1,\n",
    "    'seed' : 1,\n",
    "    'subsample_size' : 0.25,\n",
    "    'balance_non_train_set' : False,\n",
    "    'use_true_test_set' : False,\n",
    "    'even_balance' : True\n",
    "}\n",
    "loadData = LoadData(**load_args)\n",
    "train_ds, val_ds, test_ds = loadData.get_datasets()\n",
    "noise_ds = loadData.noise_ds\n",
    "handler = DataHandler(loadData)\n",
    "\n"
   ]
  },
  {
   "cell_type": "code",
   "execution_count": 3,
   "id": "unauthorized-makeup",
   "metadata": {},
   "outputs": [
    {
     "name": "stdout",
     "output_type": "stream",
     "text": [
      "Fitting noise set time augmentor: [--------------------------------------->] 100 %\n",
      "\n",
      "Fit process completed after 187.1693732738495 seconds. Total datapoints fitted: 21199.\n",
      "Average time per datapoint: 0.008829160492185928\n",
      "\n",
      "\n",
      "Fitting train time augmentor: [--------------------------------------->] 100 %\n",
      "\n",
      "Fit process completed after 150.18146467208862 seconds. Total datapoints fitted: 41123.\n",
      "Average time per datapoint: 0.0036520065333776382\n",
      "\n",
      "\n",
      "Fitting validation time augmentor: [--------------------------------------->] 100 %\n",
      "\n",
      "Fit process completed after 26.087356567382812 seconds. Total datapoints fitted: 3347.\n",
      "Average time per datapoint: 0.007794250542988591\n",
      "\n",
      "\n",
      "Stage one loading training set, timeAug: [--------------------------------------->] 100 %\n",
      "\n",
      "Stage one loading validation set, timeAug: [--------------------------------------->] 100 %\n",
      "\n",
      "Fitting scaler progress: [------------------->] 100 %\n",
      "\n",
      "Stage one loading noise set, timeAug: [--------------------------------------->] 100 %\n",
      "\n",
      "Stage two loading noise set, labels and standard scaler: [--------------------------------------->] 100 %\n",
      "\n",
      "Fitting noise augmentor: [--------------------------------------->] 100 %\n",
      "\n",
      "\n",
      "\n",
      "Stage two loading training set, labels and standard scaler: [--------------------------------------->] 100 %\n",
      "\n",
      "Stage two loading validation set, labels and standard scaler: [--------------------------------------->] 100 %\n",
      "\n",
      "\n",
      "\n",
      "Completed loading to RAM\n",
      "Time elapsed to completion of load_to_ram_earth_explo_only: 0:07:17.590892\n"
     ]
    }
   ],
   "source": [
    "model_type = \"LSTM\"\n",
    "is_lstm = True\n",
    "num_channels = 3    \n",
    "\n",
    "use_time_augmentor = True\n",
    "scaler_name = \"standard\"\n",
    "use_noise_augmentor = True\n",
    "filter_name = None\n",
    "band_min = 2.0\n",
    "band_max = 4.0\n",
    "highpass_freq = 0.075\n",
    "\n",
    "shutdown = False\n",
    "\n",
    "num_classes = len(list(set(loadData.label_dict.values())))\n",
    "\n",
    "\n",
    "\n",
    "ramLoader = RamLoader(loadData, \n",
    "                      handler, \n",
    "                      use_time_augmentor = use_time_augmentor, \n",
    "                      use_noise_augmentor = use_noise_augmentor, \n",
    "                      scaler_name = scaler_name,\n",
    "                      filter_name = filter_name, \n",
    "                      band_min = band_min,\n",
    "                      band_max = band_max,\n",
    "                      highpass_freq = highpass_freq, \n",
    "                      load_test_set = False, \n",
    "                      meier_load = False)\n",
    "\n",
    "x_train, y_train, x_val, y_val, noiseAug = ramLoader.load_to_ram()"
   ]
  },
  {
   "cell_type": "code",
   "execution_count": 4,
   "id": "incredible-vietnam",
   "metadata": {
    "scrolled": true
   },
   "outputs": [
    {
     "name": "stdout",
     "output_type": "stream",
     "text": [
      "['20210514-185155']\n",
      "Trying to create result file\n",
      "Made result file:  results_LSTM_baseline_earthExplo_timeAug_standard_noiseAug_earlyS_unbalanced_valtest_subsample-0.25_numChannels-3_f1.csv\n",
      "[   {'model_type': 'LSTM_baseline'},\n",
      "    {   'batch_size': 128,\n",
      "        'epochs': 50,\n",
      "        'learning_rate': 0.01,\n",
      "        'optimizer': 'sgd',\n",
      "        'output_layer_activation': 'sigmoid',\n",
      "        'units': 1}]\n",
      "Saving file. 1 rows.\n",
      "results_LSTM_baseline_earthExplo_timeAug_standard_noiseAug_earlyS_unbalanced_valtest_subsample-0.25_numChannels-3_f1.csv saved to path:   /media/tord/T7/Thesis_ssd/MasterThesis3/GridSearchResults/2_classes\n",
      "Model: \"model\"\n",
      "_________________________________________________________________\n",
      "Layer (type)                 Output Shape              Param #   \n",
      "=================================================================\n",
      "input_1 (InputLayer)         [(None, 6000, 3)]         0         \n",
      "_________________________________________________________________\n",
      "cu_dnnlstm (CuDNNLSTM)       (None, 1)                 24        \n",
      "_________________________________________________________________\n",
      "dense (Dense)                (None, 1)                 2         \n",
      "=================================================================\n",
      "Total params: 26\n",
      "Trainable params: 26\n",
      "Non-trainable params: 0\n",
      "_________________________________________________________________\n",
      "----------EarlyStop monitoring val_f1------------\n",
      "----------Reduce LR monitoring val_f1------------\n",
      "Utilizes 3328/3347 validation points\n",
      "Utilizes 41088/41123 training points\n",
      "-------------------------------------------------------------------\n",
      "Epoch 1/50\n",
      "321/321 [==============================] - 42s 122ms/step - loss: 0.6932 - precision: 0.7679 - recall: 0.4179 - binary_accuracy: 0.4970 - val_loss: 0.6929 - val_precision: 0.8462 - val_recall: 1.0954e-08 - val_binary_accuracy: 0.9225\n",
      "- val_f1: 0.0\n",
      "Epoch 2/50\n",
      "321/321 [==============================] - 38s 119ms/step - loss: 0.6932 - precision: 0.6654 - recall: 0.6523 - binary_accuracy: 0.4942 - val_loss: 0.6894 - val_precision: 1.0000 - val_recall: 1.0954e-08 - val_binary_accuracy: 0.9237\n",
      "- val_f1: 0.0\n",
      "Epoch 3/50\n",
      "321/321 [==============================] - 39s 120ms/step - loss: 0.6932 - precision: 0.9338 - recall: 0.1142 - binary_accuracy: 0.4970 - val_loss: 0.6894 - val_precision: 1.0000 - val_recall: 1.0954e-08 - val_binary_accuracy: 0.9237\n",
      "- val_f1: 0.0\n",
      "Epoch 4/50\n",
      "321/321 [==============================] - 38s 117ms/step - loss: 0.6932 - precision: 0.9184 - recall: 0.1206 - binary_accuracy: 0.4975 - val_loss: 0.6932 - val_precision: 0.0761 - val_recall: 0.9433 - val_binary_accuracy: 0.1226\n",
      "- val_f1: 0.1385\n",
      "Epoch 5/50\n",
      "321/321 [==============================] - 38s 117ms/step - loss: 0.6932 - precision: 0.6041 - recall: 0.7662 - binary_accuracy: 0.4992 - val_loss: 0.6895 - val_precision: 1.0000 - val_recall: 1.0954e-08 - val_binary_accuracy: 0.9237\n",
      "- val_f1: 0.0\n",
      "Epoch 6/50\n",
      "321/321 [==============================] - 38s 118ms/step - loss: 0.6932 - precision: 0.8502 - recall: 0.2173 - binary_accuracy: 0.4955 - val_loss: 0.6881 - val_precision: 1.0000 - val_recall: 1.0954e-08 - val_binary_accuracy: 0.9237\n",
      "- val_f1: 0.0\n",
      "Epoch 7/50\n",
      "321/321 [==============================] - 38s 120ms/step - loss: 0.6932 - precision: 0.9493 - recall: 0.0743 - binary_accuracy: 0.4990 - val_loss: 0.6896 - val_precision: 1.0000 - val_recall: 1.0954e-08 - val_binary_accuracy: 0.9237\n",
      "- val_f1: 0.0\n",
      "\n",
      "Epoch 00007: ReduceLROnPlateau reducing learning rate to 0.00499999988824.\n",
      "Epoch 8/50\n",
      "321/321 [==============================] - 38s 117ms/step - loss: 0.6931 - precision: 0.9955 - recall: 3.1196e-04 - binary_accuracy: 0.5044 - val_loss: 0.6924 - val_precision: 0.9231 - val_recall: 1.0954e-08 - val_binary_accuracy: 0.9231\n",
      "- val_f1: 0.0\n",
      "Epoch 9/50\n",
      "321/321 [==============================] - 39s 120ms/step - loss: 0.6931 - precision: 0.9641 - recall: 0.0014 - binary_accuracy: 0.5054 - val_loss: 0.6932 - val_precision: 0.0761 - val_recall: 0.9900 - val_binary_accuracy: 0.0829\n",
      "- val_f1: 0.1421\n",
      "Epoch 10/50\n",
      "321/321 [==============================] - 38s 119ms/step - loss: 0.6932 - precision: 0.6133 - recall: 0.7538 - binary_accuracy: 0.4995 - val_loss: 0.6909 - val_precision: 1.0000 - val_recall: 1.0954e-08 - val_binary_accuracy: 0.9237\n",
      "- val_f1: 0.0\n",
      "Epoch 11/50\n",
      "321/321 [==============================] - 38s 119ms/step - loss: 0.6931 - precision: 0.9580 - recall: 0.0691 - binary_accuracy: 0.5043 - val_loss: 0.6910 - val_precision: 1.0000 - val_recall: 1.0954e-08 - val_binary_accuracy: 0.9237\n",
      "- val_f1: 0.0\n",
      "Epoch 12/50\n",
      "321/321 [==============================] - 38s 120ms/step - loss: 0.6932 - precision: 0.9376 - recall: 0.0698 - binary_accuracy: 0.4979 - val_loss: 0.6901 - val_precision: 1.0000 - val_recall: 1.0954e-08 - val_binary_accuracy: 0.9237\n",
      "- val_f1: 0.0\n",
      "\n",
      "Epoch 00012: ReduceLROnPlateau reducing learning rate to 0.00249999994412.\n",
      "Epoch 13/50\n",
      "321/321 [==============================] - 38s 117ms/step - loss: 0.6931 - precision: 0.9930 - recall: 3.3884e-04 - binary_accuracy: 0.5022 - val_loss: 0.6905 - val_precision: 1.0000 - val_recall: 1.0954e-08 - val_binary_accuracy: 0.9237\n",
      "- val_f1: 0.0\n",
      "Epoch 14/50\n",
      "321/321 [==============================] - 39s 120ms/step - loss: 0.6931 - precision: 0.9907 - recall: 1.7975e-04 - binary_accuracy: 0.5039 - val_loss: 0.6909 - val_precision: 1.0000 - val_recall: 1.0954e-08 - val_binary_accuracy: 0.9237\n",
      "- val_f1: 0.0\n",
      "Epoch 15/50\n",
      "321/321 [==============================] - 39s 120ms/step - loss: 0.6932 - precision: 0.9958 - recall: 1.4165e-04 - binary_accuracy: 0.5011 - val_loss: 0.6907 - val_precision: 1.0000 - val_recall: 1.0954e-08 - val_binary_accuracy: 0.9237\n",
      "- val_f1: 0.0\n",
      "\n",
      "Epoch 00015: ReduceLROnPlateau reducing learning rate to 0.00124999997206.\n",
      "Epoch 16/50\n",
      "321/321 [==============================] - 38s 118ms/step - loss: 0.6931 - precision: 0.9797 - recall: 1.0045e-04 - binary_accuracy: 0.5037 - val_loss: 0.6910 - val_precision: 1.0000 - val_recall: 1.0954e-08 - val_binary_accuracy: 0.9237\n",
      "- val_f1: 0.0\n",
      "Restoring model weights from the end of the best epoch.\n",
      "Epoch 00016: early stopping\n",
      "26/26 [==============================] - 2s 57ms/step - loss: 0.6932 - precision: 0.0760 - recall: 0.9900 - binary_accuracy: 0.0829\n",
      "29 3045 2 252\n",
      "<tf.Tensor: shape=(2, 2), dtype=int32, numpy=\n",
      "array([[  29, 3045],\n",
      "       [   2,  252]], dtype=int32)>\n",
      "              precision    recall  f1-score   support\n",
      "\n",
      "   explosion       0.94      0.01      0.02      3074\n",
      "  earthquake       0.08      0.99      0.14       254\n",
      "\n",
      "    accuracy                           0.08      3328\n",
      "   macro avg       0.51      0.50      0.08      3328\n",
      "weighted avg       0.87      0.08      0.03      3328\n",
      "\n",
      "Evaluating train:\n",
      "321/321 [==============================] - 18s 56ms/step - loss: 0.6931 - precision: 0.4957 - recall: 0.9812 - binary_accuracy: 0.4929\n",
      "149 20449 394 20096\n",
      "<tf.Tensor: shape=(2, 2), dtype=int32, numpy=\n",
      "array([[  149, 20449],\n",
      "       [  394, 20096]], dtype=int32)>\n",
      "              precision    recall  f1-score   support\n",
      "\n",
      "   explosion       0.27      0.01      0.01     20598\n",
      "  earthquake       0.50      0.98      0.66     20490\n",
      "\n",
      "    accuracy                           0.49     41088\n",
      "   macro avg       0.39      0.49      0.34     41088\n",
      "weighted avg       0.38      0.49      0.34     41088\n",
      "\n",
      "Saving file. 1 rows.\n",
      "results_LSTM_baseline_earthExplo_timeAug_standard_noiseAug_earlyS_unbalanced_valtest_subsample-0.25_numChannels-3_f1.csv saved to path:   /media/tord/T7/Thesis_ssd/MasterThesis3/GridSearchResults/2_classes\n",
      "batch_size                                         128\n",
      "epochs                                              50\n",
      "learning_rate                                     0.01\n",
      "optimizer                                          sgd\n",
      "units                                                1\n",
      "output_layer_activation                        sigmoid\n",
      "train_loss                                     0.69315\n",
      "train_accuracy                                0.492723\n",
      "train_precision                               0.495647\n",
      "train_recall                                  0.980771\n",
      "train_f1                                      0.658507\n",
      "val_loss                                      0.693195\n",
      "val_accuracy                                  0.084435\n",
      "val_precision                                 0.076433\n",
      "val_recall                                    0.992126\n",
      "val_f1                                        0.141932\n",
      "confusion_matrix           [[  29 3045]\\n [   2  252]]\n",
      "Name: 0, dtype: object\n",
      "Unsaved train eval:\n"
     ]
    },
    {
     "name": "stdout",
     "output_type": "stream",
     "text": [
      "168 20430 383 20107\n",
      "['explosion', 'earthquake']\n",
      "EE\n"
     ]
    },
    {
     "data": {
      "image/png": "[encoded data removed]",
      "text/plain": [
       "<Figure size 432x288 with 1 Axes>"
      ]
     },
     "metadata": {
      "needs_background": "light"
     },
     "output_type": "display_data"
    },
    {
     "name": "stdout",
     "output_type": "stream",
     "text": [
      "<tf.Tensor: shape=(2, 2), dtype=int32, numpy=\n",
      "array([[  168, 20430],\n",
      "       [  383, 20107]], dtype=int32)>\n",
      "              precision    recall  f1-score   support\n",
      "\n",
      "   explosion       0.30      0.01      0.02     20598\n",
      "  earthquake       0.50      0.98      0.66     20490\n",
      "\n",
      "    accuracy                           0.49     41088\n",
      "   macro avg       0.40      0.49      0.34     41088\n",
      "weighted avg       0.40      0.49      0.34     41088\n",
      "\n",
      "Unsaved val eval:\n",
      "28 3046 4 250\n",
      "['explosion', 'earthquake']\n",
      "EE\n"
     ]
    },
    {
     "data": {
      "image/png": "[encoded data removed]",
      "text/plain": [
       "<Figure size 432x288 with 1 Axes>"
      ]
     },
     "metadata": {
      "needs_background": "light"
     },
     "output_type": "display_data"
    },
    {
     "name": "stdout",
     "output_type": "stream",
     "text": [
      "<tf.Tensor: shape=(2, 2), dtype=int32, numpy=\n",
      "array([[  28, 3046],\n",
      "       [   4,  250]], dtype=int32)>\n",
      "              precision    recall  f1-score   support\n",
      "\n",
      "   explosion       0.88      0.01      0.02      3074\n",
      "  earthquake       0.08      0.98      0.14       254\n",
      "\n",
      "    accuracy                           0.08      3328\n",
      "   macro avg       0.48      0.50      0.08      3328\n",
      "weighted avg       0.81      0.08      0.03      3328\n",
      "\n"
     ]
    }
   ],
   "source": [
    "use_tensorboard = True\n",
    "use_liveplots = False\n",
    "use_custom_callback = True\n",
    "use_early_stopping = True\n",
    "start_from_scratch = False\n",
    "use_reduced_lr = True\n",
    "log_data = True\n",
    "model_type = \"LSTM_baseline\"\n",
    "\n",
    "beta = 1\n",
    "\n",
    "def clear_tensorboard_dir():\n",
    "        import os\n",
    "        import shutil\n",
    "        path = f\"{base_dir}/Tensorboard_dir/fit\"\n",
    "        files = os.listdir(path)\n",
    "        print(files)\n",
    "        for f in files:\n",
    "            shutil.rmtree(os.path.join(path,f))\n",
    "if use_tensorboard:\n",
    "    clear_tensorboard_dir()\n",
    "\n",
    "\n",
    "modelTrain = TrainSingleModelRam(noiseAug, helper,\n",
    "                              loadData, model_type, num_channels, use_tensorboard, use_liveplots,\n",
    "                              use_custom_callback, use_early_stopping, use_reduced_lr, ramLoader,\n",
    "                              log_data = log_data, \n",
    "                              start_from_scratch = start_from_scratch, beta = beta)\n",
    "\n",
    "params = {\n",
    "        \"batch_size\" : 128,\n",
    "        \"epochs\" : 50,\n",
    "        \"learning_rate\" : 0.01,\n",
    "        \"optimizer\" : \"sgd\",\n",
    "        \"units\" : 1,\n",
    "        \"output_layer_activation\" : \"sigmoid\"\n",
    "    }\n",
    "model = modelTrain.run(x_train, y_train, x_val, y_val, None, None, 16, 15, evaluate_train = True, evaluate_val = True, evaluate_test = False, meier_mode = False, **params)"
   ]
  },
  {
   "cell_type": "code",
   "execution_count": 5,
   "id": "nutritional-writer",
   "metadata": {
    "scrolled": false
   },
   "outputs": [
    {
     "name": "stdout",
     "output_type": "stream",
     "text": [
      "30 3044 2 252\n"
     ]
    },
    {
     "data": {
      "image/png": "[encoded data removed]",
      "text/plain": [
       "<Figure size 432x288 with 1 Axes>"
      ]
     },
     "metadata": {
      "needs_background": "light"
     },
     "output_type": "display_data"
    },
    {
     "name": "stdout",
     "output_type": "stream",
     "text": [
      "['explosion', 'earthquake']\n",
      "EE\n"
     ]
    },
    {
     "data": {
      "image/png": "[encoded data removed]",
      "text/plain": [
       "<Figure size 432x288 with 1 Axes>"
      ]
     },
     "metadata": {
      "needs_background": "light"
     },
     "output_type": "display_data"
    },
    {
     "name": "stdout",
     "output_type": "stream",
     "text": [
      "<tf.Tensor: shape=(2, 2), dtype=int32, numpy=\n",
      "array([[  30, 3044],\n",
      "       [   2,  252]], dtype=int32)>\n",
      "              precision    recall  f1-score   support\n",
      "\n",
      "   explosion       0.94      0.01      0.02      3074\n",
      "  earthquake       0.08      0.99      0.14       254\n",
      "\n",
      "    accuracy                           0.08      3328\n",
      "   macro avg       0.51      0.50      0.08      3328\n",
      "weighted avg       0.87      0.08      0.03      3328\n",
      "\n"
     ]
    }
   ],
   "source": [
    "conf, report, accuracy, precision, recall, fscore = helper.evaluate_generator(model, x_val, y_val, params[\"batch_size\"],\n",
    "                                                                             loadData.label_dict, num_channels, noiseAug,\n",
    "                                                                             scaler_name, 2, plot_conf_matrix = True, plot_p_r_curve = True, beta = beta)"
   ]
  },
  {
   "cell_type": "code",
   "execution_count": 6,
   "id": "opposed-desire",
   "metadata": {},
   "outputs": [
    {
     "data": {
      "text/plain": [
       "(0.084735576923076927,\n",
       " 0.076455999999999996,\n",
       " 0.99212599999999995,\n",
       " 0.14197199999999999)"
      ]
     },
     "execution_count": 6,
     "metadata": {},
     "output_type": "execute_result"
    }
   ],
   "source": [
    "accuracy, precision, recall, fscore"
   ]
  },
  {
   "cell_type": "code",
   "execution_count": 7,
   "id": "figured-paint",
   "metadata": {},
   "outputs": [
    {
     "name": "stdout",
     "output_type": "stream",
     "text": [
      "Model: \"model\"\n",
      "_________________________________________________________________\n",
      "Layer (type)                 Output Shape              Param #   \n",
      "=================================================================\n",
      "input_1 (InputLayer)         [(None, 6000, 3)]         0         \n",
      "_________________________________________________________________\n",
      "cu_dnnlstm (CuDNNLSTM)       (None, 1)                 24        \n",
      "_________________________________________________________________\n",
      "dense (Dense)                (None, 1)                 2         \n",
      "=================================================================\n",
      "Total params: 26\n",
      "Trainable params: 26\n",
      "Non-trainable params: 0\n",
      "_________________________________________________________________\n"
     ]
    }
   ],
   "source": [
    "model.summary()"
   ]
  },
  {
   "cell_type": "code",
   "execution_count": 8,
   "id": "tender-privilege",
   "metadata": {},
   "outputs": [
    {
     "ename": "AttributeError",
     "evalue": "'CuDNNLSTM' object has no attribute 'unroll'",
     "output_type": "error",
     "traceback": [
      "\u001b[0;31m---------------------------------------------------------------------------\u001b[0m",
      "\u001b[0;31mAttributeError\u001b[0m                            Traceback (most recent call last)",
      "\u001b[0;32m<ipython-input-8-c7d73958f578>\u001b[0m in \u001b[0;36m<module>\u001b[0;34m\u001b[0m\n\u001b[1;32m      3\u001b[0m \u001b[0mmodel_path\u001b[0m \u001b[0;34m=\u001b[0m \u001b[0;34mf'{save_dir}/{model_name}'\u001b[0m\u001b[0;34m\u001b[0m\u001b[0;34m\u001b[0m\u001b[0m\n\u001b[1;32m      4\u001b[0m \u001b[0;34m\u001b[0m\u001b[0m\n\u001b[0;32m----> 5\u001b[0;31m \u001b[0mmodel\u001b[0m\u001b[0;34m.\u001b[0m\u001b[0msave\u001b[0m\u001b[0;34m(\u001b[0m\u001b[0mmodel_path\u001b[0m\u001b[0;34m)\u001b[0m\u001b[0;34m\u001b[0m\u001b[0;34m\u001b[0m\u001b[0m\n\u001b[0m\u001b[1;32m      6\u001b[0m \u001b[0;31m#model = helper.load_model(model_path)\u001b[0m\u001b[0;34m\u001b[0m\u001b[0;34m\u001b[0m\u001b[0;34m\u001b[0m\u001b[0m\n",
      "\u001b[0;32m~/miniconda3/envs/thesis/lib/python3.8/site-packages/tensorflow/python/keras/engine/training.py\u001b[0m in \u001b[0;36msave\u001b[0;34m(self, filepath, overwrite, include_optimizer, save_format, signatures, options, save_traces)\u001b[0m\n\u001b[1;32m   2047\u001b[0m     \"\"\"\n\u001b[1;32m   2048\u001b[0m     \u001b[0;31m# pylint: enable=line-too-long\u001b[0m\u001b[0;34m\u001b[0m\u001b[0;34m\u001b[0m\u001b[0;34m\u001b[0m\u001b[0m\n\u001b[0;32m-> 2049\u001b[0;31m     save.save_model(self, filepath, overwrite, include_optimizer, save_format,\n\u001b[0m\u001b[1;32m   2050\u001b[0m                     signatures, options, save_traces)\n\u001b[1;32m   2051\u001b[0m \u001b[0;34m\u001b[0m\u001b[0m\n",
      "\u001b[0;32m~/miniconda3/envs/thesis/lib/python3.8/site-packages/tensorflow/python/keras/saving/save.py\u001b[0m in \u001b[0;36msave_model\u001b[0;34m(model, filepath, overwrite, include_optimizer, save_format, signatures, options, save_traces)\u001b[0m\n\u001b[1;32m    149\u001b[0m         model, filepath, overwrite, include_optimizer)\n\u001b[1;32m    150\u001b[0m   \u001b[0;32melse\u001b[0m\u001b[0;34m:\u001b[0m\u001b[0;34m\u001b[0m\u001b[0;34m\u001b[0m\u001b[0m\n\u001b[0;32m--> 151\u001b[0;31m     saved_model_save.save(model, filepath, overwrite, include_optimizer,\n\u001b[0m\u001b[1;32m    152\u001b[0m                           signatures, options, save_traces)\n\u001b[1;32m    153\u001b[0m \u001b[0;34m\u001b[0m\u001b[0m\n",
      "\u001b[0;32m~/miniconda3/envs/thesis/lib/python3.8/site-packages/tensorflow/python/keras/saving/saved_model/save.py\u001b[0m in \u001b[0;36msave\u001b[0;34m(model, filepath, overwrite, include_optimizer, signatures, options, save_traces)\u001b[0m\n\u001b[1;32m     93\u001b[0m     \u001b[0;32mwith\u001b[0m \u001b[0mdistribution_strategy_context\u001b[0m\u001b[0;34m.\u001b[0m\u001b[0m_get_default_replica_context\u001b[0m\u001b[0;34m(\u001b[0m\u001b[0;34m)\u001b[0m\u001b[0;34m:\u001b[0m  \u001b[0;31m# pylint: disable=protected-access\u001b[0m\u001b[0;34m\u001b[0m\u001b[0;34m\u001b[0m\u001b[0m\n\u001b[1;32m     94\u001b[0m       \u001b[0;32mwith\u001b[0m \u001b[0mutils\u001b[0m\u001b[0;34m.\u001b[0m\u001b[0mkeras_option_scope\u001b[0m\u001b[0;34m(\u001b[0m\u001b[0msave_traces\u001b[0m\u001b[0;34m)\u001b[0m\u001b[0;34m:\u001b[0m\u001b[0;34m\u001b[0m\u001b[0;34m\u001b[0m\u001b[0m\n\u001b[0;32m---> 95\u001b[0;31m         saved_nodes, node_paths = save_lib.save_and_return_nodes(\n\u001b[0m\u001b[1;32m     96\u001b[0m             model, filepath, signatures, options)\n\u001b[1;32m     97\u001b[0m \u001b[0;34m\u001b[0m\u001b[0m\n",
      "\u001b[0;32m~/miniconda3/envs/thesis/lib/python3.8/site-packages/tensorflow/python/saved_model/save.py\u001b[0m in \u001b[0;36msave_and_return_nodes\u001b[0;34m(obj, export_dir, signatures, options, raise_metadata_warning, experimental_skip_checkpoint)\u001b[0m\n\u001b[1;32m   1083\u001b[0m \u001b[0;34m\u001b[0m\u001b[0m\n\u001b[1;32m   1084\u001b[0m   _, exported_graph, object_saver, asset_info, saved_nodes, node_paths = (\n\u001b[0;32m-> 1085\u001b[0;31m       _build_meta_graph(obj, signatures, options, meta_graph_def,\n\u001b[0m\u001b[1;32m   1086\u001b[0m                         raise_metadata_warning))\n\u001b[1;32m   1087\u001b[0m   \u001b[0msaved_model\u001b[0m\u001b[0;34m.\u001b[0m\u001b[0msaved_model_schema_version\u001b[0m \u001b[0;34m=\u001b[0m \u001b[0mconstants\u001b[0m\u001b[0;34m.\u001b[0m\u001b[0mSAVED_MODEL_SCHEMA_VERSION\u001b[0m\u001b[0;34m\u001b[0m\u001b[0;34m\u001b[0m\u001b[0m\n",
      "\u001b[0;32m~/miniconda3/envs/thesis/lib/python3.8/site-packages/tensorflow/python/saved_model/save.py\u001b[0m in \u001b[0;36m_build_meta_graph\u001b[0;34m(obj, signatures, options, meta_graph_def, raise_metadata_warning)\u001b[0m\n\u001b[1;32m   1270\u001b[0m \u001b[0;34m\u001b[0m\u001b[0m\n\u001b[1;32m   1271\u001b[0m   \u001b[0;32mwith\u001b[0m \u001b[0msave_context\u001b[0m\u001b[0;34m.\u001b[0m\u001b[0msave_context\u001b[0m\u001b[0;34m(\u001b[0m\u001b[0moptions\u001b[0m\u001b[0;34m)\u001b[0m\u001b[0;34m:\u001b[0m\u001b[0;34m\u001b[0m\u001b[0;34m\u001b[0m\u001b[0m\n\u001b[0;32m-> 1272\u001b[0;31m     return _build_meta_graph_impl(obj, signatures, options, meta_graph_def,\n\u001b[0m\u001b[1;32m   1273\u001b[0m                                   raise_metadata_warning)\n",
      "\u001b[0;32m~/miniconda3/envs/thesis/lib/python3.8/site-packages/tensorflow/python/saved_model/save.py\u001b[0m in \u001b[0;36m_build_meta_graph_impl\u001b[0;34m(obj, signatures, options, meta_graph_def, raise_metadata_warning)\u001b[0m\n\u001b[1;32m   1187\u001b[0m   \u001b[0mcheckpoint_graph_view\u001b[0m \u001b[0;34m=\u001b[0m \u001b[0m_AugmentedGraphView\u001b[0m\u001b[0;34m(\u001b[0m\u001b[0mobj\u001b[0m\u001b[0;34m)\u001b[0m\u001b[0;34m\u001b[0m\u001b[0;34m\u001b[0m\u001b[0m\n\u001b[1;32m   1188\u001b[0m   \u001b[0;32mif\u001b[0m \u001b[0msignatures\u001b[0m \u001b[0;32mis\u001b[0m \u001b[0;32mNone\u001b[0m\u001b[0;34m:\u001b[0m\u001b[0;34m\u001b[0m\u001b[0;34m\u001b[0m\u001b[0m\n\u001b[0;32m-> 1189\u001b[0;31m     signatures = signature_serialization.find_function_to_export(\n\u001b[0m\u001b[1;32m   1190\u001b[0m         checkpoint_graph_view)\n\u001b[1;32m   1191\u001b[0m \u001b[0;34m\u001b[0m\u001b[0m\n",
      "\u001b[0;32m~/miniconda3/envs/thesis/lib/python3.8/site-packages/tensorflow/python/saved_model/signature_serialization.py\u001b[0m in \u001b[0;36mfind_function_to_export\u001b[0;34m(saveable_view)\u001b[0m\n\u001b[1;32m     96\u001b[0m   \u001b[0;31m# If the user did not specify signatures, check the root object for a function\u001b[0m\u001b[0;34m\u001b[0m\u001b[0;34m\u001b[0m\u001b[0;34m\u001b[0m\u001b[0m\n\u001b[1;32m     97\u001b[0m   \u001b[0;31m# that can be made into a signature.\u001b[0m\u001b[0;34m\u001b[0m\u001b[0;34m\u001b[0m\u001b[0;34m\u001b[0m\u001b[0m\n\u001b[0;32m---> 98\u001b[0;31m   \u001b[0mfunctions\u001b[0m \u001b[0;34m=\u001b[0m \u001b[0msaveable_view\u001b[0m\u001b[0;34m.\u001b[0m\u001b[0mlist_functions\u001b[0m\u001b[0;34m(\u001b[0m\u001b[0msaveable_view\u001b[0m\u001b[0;34m.\u001b[0m\u001b[0mroot\u001b[0m\u001b[0;34m)\u001b[0m\u001b[0;34m\u001b[0m\u001b[0;34m\u001b[0m\u001b[0m\n\u001b[0m\u001b[1;32m     99\u001b[0m   \u001b[0msignature\u001b[0m \u001b[0;34m=\u001b[0m \u001b[0mfunctions\u001b[0m\u001b[0;34m.\u001b[0m\u001b[0mget\u001b[0m\u001b[0;34m(\u001b[0m\u001b[0mDEFAULT_SIGNATURE_ATTR\u001b[0m\u001b[0;34m,\u001b[0m \u001b[0;32mNone\u001b[0m\u001b[0;34m)\u001b[0m\u001b[0;34m\u001b[0m\u001b[0;34m\u001b[0m\u001b[0m\n\u001b[1;32m    100\u001b[0m   \u001b[0;32mif\u001b[0m \u001b[0msignature\u001b[0m \u001b[0;32mis\u001b[0m \u001b[0;32mnot\u001b[0m \u001b[0;32mNone\u001b[0m\u001b[0;34m:\u001b[0m\u001b[0;34m\u001b[0m\u001b[0;34m\u001b[0m\u001b[0m\n",
      "\u001b[0;32m~/miniconda3/envs/thesis/lib/python3.8/site-packages/tensorflow/python/saved_model/save.py\u001b[0m in \u001b[0;36mlist_functions\u001b[0;34m(self, obj)\u001b[0m\n\u001b[1;32m    149\u001b[0m     \u001b[0mobj_functions\u001b[0m \u001b[0;34m=\u001b[0m \u001b[0mself\u001b[0m\u001b[0;34m.\u001b[0m\u001b[0m_functions\u001b[0m\u001b[0;34m.\u001b[0m\u001b[0mget\u001b[0m\u001b[0;34m(\u001b[0m\u001b[0mobj\u001b[0m\u001b[0;34m,\u001b[0m \u001b[0;32mNone\u001b[0m\u001b[0;34m)\u001b[0m\u001b[0;34m\u001b[0m\u001b[0;34m\u001b[0m\u001b[0m\n\u001b[1;32m    150\u001b[0m     \u001b[0;32mif\u001b[0m \u001b[0mobj_functions\u001b[0m \u001b[0;32mis\u001b[0m \u001b[0;32mNone\u001b[0m\u001b[0;34m:\u001b[0m\u001b[0;34m\u001b[0m\u001b[0;34m\u001b[0m\u001b[0m\n\u001b[0;32m--> 151\u001b[0;31m       obj_functions = obj._list_functions_for_serialization(  # pylint: disable=protected-access\n\u001b[0m\u001b[1;32m    152\u001b[0m           self._serialization_cache)\n\u001b[1;32m    153\u001b[0m       \u001b[0mself\u001b[0m\u001b[0;34m.\u001b[0m\u001b[0m_functions\u001b[0m\u001b[0;34m[\u001b[0m\u001b[0mobj\u001b[0m\u001b[0;34m]\u001b[0m \u001b[0;34m=\u001b[0m \u001b[0mobj_functions\u001b[0m\u001b[0;34m\u001b[0m\u001b[0;34m\u001b[0m\u001b[0m\n",
      "\u001b[0;32m~/miniconda3/envs/thesis/lib/python3.8/site-packages/tensorflow/python/keras/engine/training.py\u001b[0m in \u001b[0;36m_list_functions_for_serialization\u001b[0;34m(self, serialization_cache)\u001b[0m\n\u001b[1;32m   2640\u001b[0m     \u001b[0mself\u001b[0m\u001b[0;34m.\u001b[0m\u001b[0mtest_function\u001b[0m \u001b[0;34m=\u001b[0m \u001b[0;32mNone\u001b[0m\u001b[0;34m\u001b[0m\u001b[0;34m\u001b[0m\u001b[0m\n\u001b[1;32m   2641\u001b[0m     \u001b[0mself\u001b[0m\u001b[0;34m.\u001b[0m\u001b[0mpredict_function\u001b[0m \u001b[0;34m=\u001b[0m \u001b[0;32mNone\u001b[0m\u001b[0;34m\u001b[0m\u001b[0;34m\u001b[0m\u001b[0m\n\u001b[0;32m-> 2642\u001b[0;31m     functions = super(\n\u001b[0m\u001b[1;32m   2643\u001b[0m         Model, self)._list_functions_for_serialization(serialization_cache)\n\u001b[1;32m   2644\u001b[0m     \u001b[0mself\u001b[0m\u001b[0;34m.\u001b[0m\u001b[0mtrain_function\u001b[0m \u001b[0;34m=\u001b[0m \u001b[0mtrain_function\u001b[0m\u001b[0;34m\u001b[0m\u001b[0;34m\u001b[0m\u001b[0m\n",
      "\u001b[0;32m~/miniconda3/envs/thesis/lib/python3.8/site-packages/tensorflow/python/keras/engine/base_layer.py\u001b[0m in \u001b[0;36m_list_functions_for_serialization\u001b[0;34m(self, serialization_cache)\u001b[0m\n\u001b[1;32m   3105\u001b[0m \u001b[0;34m\u001b[0m\u001b[0m\n\u001b[1;32m   3106\u001b[0m   \u001b[0;32mdef\u001b[0m \u001b[0m_list_functions_for_serialization\u001b[0m\u001b[0;34m(\u001b[0m\u001b[0mself\u001b[0m\u001b[0;34m,\u001b[0m \u001b[0mserialization_cache\u001b[0m\u001b[0;34m)\u001b[0m\u001b[0;34m:\u001b[0m\u001b[0;34m\u001b[0m\u001b[0;34m\u001b[0m\u001b[0m\n\u001b[0;32m-> 3107\u001b[0;31m     return (self._trackable_saved_model_saver\n\u001b[0m\u001b[1;32m   3108\u001b[0m             .list_functions_for_serialization(serialization_cache))\n\u001b[1;32m   3109\u001b[0m \u001b[0;34m\u001b[0m\u001b[0m\n",
      "\u001b[0;32m~/miniconda3/envs/thesis/lib/python3.8/site-packages/tensorflow/python/keras/saving/saved_model/base_serialization.py\u001b[0m in \u001b[0;36mlist_functions_for_serialization\u001b[0;34m(self, serialization_cache)\u001b[0m\n\u001b[1;32m     92\u001b[0m       \u001b[0;32mreturn\u001b[0m \u001b[0;34m{\u001b[0m\u001b[0;34m}\u001b[0m\u001b[0;34m\u001b[0m\u001b[0;34m\u001b[0m\u001b[0m\n\u001b[1;32m     93\u001b[0m \u001b[0;34m\u001b[0m\u001b[0m\n\u001b[0;32m---> 94\u001b[0;31m     \u001b[0mfns\u001b[0m \u001b[0;34m=\u001b[0m \u001b[0mself\u001b[0m\u001b[0;34m.\u001b[0m\u001b[0mfunctions_to_serialize\u001b[0m\u001b[0;34m(\u001b[0m\u001b[0mserialization_cache\u001b[0m\u001b[0;34m)\u001b[0m\u001b[0;34m\u001b[0m\u001b[0;34m\u001b[0m\u001b[0m\n\u001b[0m\u001b[1;32m     95\u001b[0m \u001b[0;34m\u001b[0m\u001b[0m\n\u001b[1;32m     96\u001b[0m     \u001b[0;31m# The parent AutoTrackable class saves all user-defined tf.functions, and\u001b[0m\u001b[0;34m\u001b[0m\u001b[0;34m\u001b[0m\u001b[0;34m\u001b[0m\u001b[0m\n",
      "\u001b[0;32m~/miniconda3/envs/thesis/lib/python3.8/site-packages/tensorflow/python/keras/saving/saved_model/layer_serialization.py\u001b[0m in \u001b[0;36mfunctions_to_serialize\u001b[0;34m(self, serialization_cache)\u001b[0m\n\u001b[1;32m     76\u001b[0m \u001b[0;34m\u001b[0m\u001b[0m\n\u001b[1;32m     77\u001b[0m   \u001b[0;32mdef\u001b[0m \u001b[0mfunctions_to_serialize\u001b[0m\u001b[0;34m(\u001b[0m\u001b[0mself\u001b[0m\u001b[0;34m,\u001b[0m \u001b[0mserialization_cache\u001b[0m\u001b[0;34m)\u001b[0m\u001b[0;34m:\u001b[0m\u001b[0;34m\u001b[0m\u001b[0;34m\u001b[0m\u001b[0m\n\u001b[0;32m---> 78\u001b[0;31m     return (self._get_serialized_attributes(\n\u001b[0m\u001b[1;32m     79\u001b[0m         serialization_cache).functions_to_serialize)\n\u001b[1;32m     80\u001b[0m \u001b[0;34m\u001b[0m\u001b[0m\n",
      "\u001b[0;32m~/miniconda3/envs/thesis/lib/python3.8/site-packages/tensorflow/python/keras/saving/saved_model/layer_serialization.py\u001b[0m in \u001b[0;36m_get_serialized_attributes\u001b[0;34m(self, serialization_cache)\u001b[0m\n\u001b[1;32m     92\u001b[0m       \u001b[0;32mreturn\u001b[0m \u001b[0mserialized_attr\u001b[0m\u001b[0;34m\u001b[0m\u001b[0;34m\u001b[0m\u001b[0m\n\u001b[1;32m     93\u001b[0m \u001b[0;34m\u001b[0m\u001b[0m\n\u001b[0;32m---> 94\u001b[0;31m     object_dict, function_dict = self._get_serialized_attributes_internal(\n\u001b[0m\u001b[1;32m     95\u001b[0m         serialization_cache)\n\u001b[1;32m     96\u001b[0m \u001b[0;34m\u001b[0m\u001b[0m\n",
      "\u001b[0;32m~/miniconda3/envs/thesis/lib/python3.8/site-packages/tensorflow/python/keras/saving/saved_model/model_serialization.py\u001b[0m in \u001b[0;36m_get_serialized_attributes_internal\u001b[0;34m(self, serialization_cache)\u001b[0m\n\u001b[1;32m     55\u001b[0m     \u001b[0;31m# the ones serialized by Layer.\u001b[0m\u001b[0;34m\u001b[0m\u001b[0;34m\u001b[0m\u001b[0;34m\u001b[0m\u001b[0m\n\u001b[1;32m     56\u001b[0m     objects, functions = (\n\u001b[0;32m---> 57\u001b[0;31m         super(ModelSavedModelSaver, self)._get_serialized_attributes_internal(\n\u001b[0m\u001b[1;32m     58\u001b[0m             serialization_cache))\n\u001b[1;32m     59\u001b[0m     \u001b[0mfunctions\u001b[0m\u001b[0;34m[\u001b[0m\u001b[0;34m'_default_save_signature'\u001b[0m\u001b[0;34m]\u001b[0m \u001b[0;34m=\u001b[0m \u001b[0mdefault_signature\u001b[0m\u001b[0;34m\u001b[0m\u001b[0;34m\u001b[0m\u001b[0m\n",
      "\u001b[0;32m~/miniconda3/envs/thesis/lib/python3.8/site-packages/tensorflow/python/keras/saving/saved_model/layer_serialization.py\u001b[0m in \u001b[0;36m_get_serialized_attributes_internal\u001b[0;34m(self, serialization_cache)\u001b[0m\n\u001b[1;32m    102\u001b[0m     \u001b[0;34m\"\"\"Returns dictionary of serialized attributes.\"\"\"\u001b[0m\u001b[0;34m\u001b[0m\u001b[0;34m\u001b[0m\u001b[0m\n\u001b[1;32m    103\u001b[0m     \u001b[0mobjects\u001b[0m \u001b[0;34m=\u001b[0m \u001b[0msave_impl\u001b[0m\u001b[0;34m.\u001b[0m\u001b[0mwrap_layer_objects\u001b[0m\u001b[0;34m(\u001b[0m\u001b[0mself\u001b[0m\u001b[0;34m.\u001b[0m\u001b[0mobj\u001b[0m\u001b[0;34m,\u001b[0m \u001b[0mserialization_cache\u001b[0m\u001b[0;34m)\u001b[0m\u001b[0;34m\u001b[0m\u001b[0;34m\u001b[0m\u001b[0m\n\u001b[0;32m--> 104\u001b[0;31m     \u001b[0mfunctions\u001b[0m \u001b[0;34m=\u001b[0m \u001b[0msave_impl\u001b[0m\u001b[0;34m.\u001b[0m\u001b[0mwrap_layer_functions\u001b[0m\u001b[0;34m(\u001b[0m\u001b[0mself\u001b[0m\u001b[0;34m.\u001b[0m\u001b[0mobj\u001b[0m\u001b[0;34m,\u001b[0m \u001b[0mserialization_cache\u001b[0m\u001b[0;34m)\u001b[0m\u001b[0;34m\u001b[0m\u001b[0;34m\u001b[0m\u001b[0m\n\u001b[0m\u001b[1;32m    105\u001b[0m     \u001b[0;31m# Attribute validator requires that the default save signature is added to\u001b[0m\u001b[0;34m\u001b[0m\u001b[0;34m\u001b[0m\u001b[0;34m\u001b[0m\u001b[0m\n\u001b[1;32m    106\u001b[0m     \u001b[0;31m# function dict, even if the value is None.\u001b[0m\u001b[0;34m\u001b[0m\u001b[0;34m\u001b[0m\u001b[0;34m\u001b[0m\u001b[0m\n",
      "\u001b[0;32m~/miniconda3/envs/thesis/lib/python3.8/site-packages/tensorflow/python/keras/saving/saved_model/save_impl.py\u001b[0m in \u001b[0;36mwrap_layer_functions\u001b[0;34m(layer, serialization_cache)\u001b[0m\n\u001b[1;32m    152\u001b[0m   \u001b[0;31m# Reset the losses of the layer and its children. The call function in each\u001b[0m\u001b[0;34m\u001b[0m\u001b[0;34m\u001b[0m\u001b[0;34m\u001b[0m\u001b[0m\n\u001b[1;32m    153\u001b[0m   \u001b[0;31m# child layer is replaced with tf.functions.\u001b[0m\u001b[0;34m\u001b[0m\u001b[0;34m\u001b[0m\u001b[0;34m\u001b[0m\u001b[0m\n\u001b[0;32m--> 154\u001b[0;31m   \u001b[0moriginal_fns\u001b[0m \u001b[0;34m=\u001b[0m \u001b[0m_replace_child_layer_functions\u001b[0m\u001b[0;34m(\u001b[0m\u001b[0mlayer\u001b[0m\u001b[0;34m,\u001b[0m \u001b[0mserialization_cache\u001b[0m\u001b[0;34m)\u001b[0m\u001b[0;34m\u001b[0m\u001b[0;34m\u001b[0m\u001b[0m\n\u001b[0m\u001b[1;32m    155\u001b[0m   \u001b[0moriginal_losses\u001b[0m \u001b[0;34m=\u001b[0m \u001b[0m_reset_layer_losses\u001b[0m\u001b[0;34m(\u001b[0m\u001b[0mlayer\u001b[0m\u001b[0;34m)\u001b[0m\u001b[0;34m\u001b[0m\u001b[0;34m\u001b[0m\u001b[0m\n\u001b[1;32m    156\u001b[0m \u001b[0;34m\u001b[0m\u001b[0m\n",
      "\u001b[0;32m~/miniconda3/envs/thesis/lib/python3.8/site-packages/tensorflow/python/keras/saving/saved_model/save_impl.py\u001b[0m in \u001b[0;36m_replace_child_layer_functions\u001b[0;34m(layer, serialization_cache)\u001b[0m\n\u001b[1;32m    270\u001b[0m     \u001b[0;32mif\u001b[0m \u001b[0mchild_layer\u001b[0m \u001b[0;32mnot\u001b[0m \u001b[0;32min\u001b[0m \u001b[0mserialization_cache\u001b[0m\u001b[0;34m[\u001b[0m\u001b[0mconstants\u001b[0m\u001b[0;34m.\u001b[0m\u001b[0mKERAS_CACHE_KEY\u001b[0m\u001b[0;34m]\u001b[0m\u001b[0;34m:\u001b[0m\u001b[0;34m\u001b[0m\u001b[0;34m\u001b[0m\u001b[0m\n\u001b[1;32m    271\u001b[0m       serialized_functions = (\n\u001b[0;32m--> 272\u001b[0;31m           child_layer._trackable_saved_model_saver._get_serialized_attributes(\n\u001b[0m\u001b[1;32m    273\u001b[0m               serialization_cache).functions)\n\u001b[1;32m    274\u001b[0m     \u001b[0;32melse\u001b[0m\u001b[0;34m:\u001b[0m\u001b[0;34m\u001b[0m\u001b[0;34m\u001b[0m\u001b[0m\n",
      "\u001b[0;32m~/miniconda3/envs/thesis/lib/python3.8/site-packages/tensorflow/python/keras/saving/saved_model/layer_serialization.py\u001b[0m in \u001b[0;36m_get_serialized_attributes\u001b[0;34m(self, serialization_cache)\u001b[0m\n\u001b[1;32m     92\u001b[0m       \u001b[0;32mreturn\u001b[0m \u001b[0mserialized_attr\u001b[0m\u001b[0;34m\u001b[0m\u001b[0;34m\u001b[0m\u001b[0m\n\u001b[1;32m     93\u001b[0m \u001b[0;34m\u001b[0m\u001b[0m\n\u001b[0;32m---> 94\u001b[0;31m     object_dict, function_dict = self._get_serialized_attributes_internal(\n\u001b[0m\u001b[1;32m     95\u001b[0m         serialization_cache)\n\u001b[1;32m     96\u001b[0m \u001b[0;34m\u001b[0m\u001b[0m\n",
      "\u001b[0;32m~/miniconda3/envs/thesis/lib/python3.8/site-packages/tensorflow/python/keras/saving/saved_model/layer_serialization.py\u001b[0m in \u001b[0;36m_get_serialized_attributes_internal\u001b[0;34m(self, serialization_cache)\u001b[0m\n\u001b[1;32m    158\u001b[0m   \u001b[0;32mdef\u001b[0m \u001b[0m_get_serialized_attributes_internal\u001b[0m\u001b[0;34m(\u001b[0m\u001b[0mself\u001b[0m\u001b[0;34m,\u001b[0m \u001b[0mserialization_cache\u001b[0m\u001b[0;34m)\u001b[0m\u001b[0;34m:\u001b[0m\u001b[0;34m\u001b[0m\u001b[0;34m\u001b[0m\u001b[0m\n\u001b[1;32m    159\u001b[0m     objects, functions = (\n\u001b[0;32m--> 160\u001b[0;31m         super(RNNSavedModelSaver, self)._get_serialized_attributes_internal(\n\u001b[0m\u001b[1;32m    161\u001b[0m             serialization_cache))\n\u001b[1;32m    162\u001b[0m     \u001b[0mstates\u001b[0m \u001b[0;34m=\u001b[0m \u001b[0mdata_structures\u001b[0m\u001b[0;34m.\u001b[0m\u001b[0mwrap_or_unwrap\u001b[0m\u001b[0;34m(\u001b[0m\u001b[0mself\u001b[0m\u001b[0;34m.\u001b[0m\u001b[0mobj\u001b[0m\u001b[0;34m.\u001b[0m\u001b[0mstates\u001b[0m\u001b[0;34m)\u001b[0m\u001b[0;34m\u001b[0m\u001b[0;34m\u001b[0m\u001b[0m\n",
      "\u001b[0;32m~/miniconda3/envs/thesis/lib/python3.8/site-packages/tensorflow/python/keras/saving/saved_model/layer_serialization.py\u001b[0m in \u001b[0;36m_get_serialized_attributes_internal\u001b[0;34m(self, serialization_cache)\u001b[0m\n\u001b[1;32m    102\u001b[0m     \u001b[0;34m\"\"\"Returns dictionary of serialized attributes.\"\"\"\u001b[0m\u001b[0;34m\u001b[0m\u001b[0;34m\u001b[0m\u001b[0m\n\u001b[1;32m    103\u001b[0m     \u001b[0mobjects\u001b[0m \u001b[0;34m=\u001b[0m \u001b[0msave_impl\u001b[0m\u001b[0;34m.\u001b[0m\u001b[0mwrap_layer_objects\u001b[0m\u001b[0;34m(\u001b[0m\u001b[0mself\u001b[0m\u001b[0;34m.\u001b[0m\u001b[0mobj\u001b[0m\u001b[0;34m,\u001b[0m \u001b[0mserialization_cache\u001b[0m\u001b[0;34m)\u001b[0m\u001b[0;34m\u001b[0m\u001b[0;34m\u001b[0m\u001b[0m\n\u001b[0;32m--> 104\u001b[0;31m     \u001b[0mfunctions\u001b[0m \u001b[0;34m=\u001b[0m \u001b[0msave_impl\u001b[0m\u001b[0;34m.\u001b[0m\u001b[0mwrap_layer_functions\u001b[0m\u001b[0;34m(\u001b[0m\u001b[0mself\u001b[0m\u001b[0;34m.\u001b[0m\u001b[0mobj\u001b[0m\u001b[0;34m,\u001b[0m \u001b[0mserialization_cache\u001b[0m\u001b[0;34m)\u001b[0m\u001b[0;34m\u001b[0m\u001b[0;34m\u001b[0m\u001b[0m\n\u001b[0m\u001b[1;32m    105\u001b[0m     \u001b[0;31m# Attribute validator requires that the default save signature is added to\u001b[0m\u001b[0;34m\u001b[0m\u001b[0;34m\u001b[0m\u001b[0;34m\u001b[0m\u001b[0m\n\u001b[1;32m    106\u001b[0m     \u001b[0;31m# function dict, even if the value is None.\u001b[0m\u001b[0;34m\u001b[0m\u001b[0;34m\u001b[0m\u001b[0;34m\u001b[0m\u001b[0m\n",
      "\u001b[0;32m~/miniconda3/envs/thesis/lib/python3.8/site-packages/tensorflow/python/keras/saving/saved_model/save_impl.py\u001b[0m in \u001b[0;36mwrap_layer_functions\u001b[0;34m(layer, serialization_cache)\u001b[0m\n\u001b[1;32m    159\u001b[0m   \u001b[0;31m# Use LayerCallCollection to ensure that all layer call functions (__call__,\u001b[0m\u001b[0;34m\u001b[0m\u001b[0;34m\u001b[0m\u001b[0;34m\u001b[0m\u001b[0m\n\u001b[1;32m    160\u001b[0m   \u001b[0;31m# call with losses) are traced with the same inputs.\u001b[0m\u001b[0;34m\u001b[0m\u001b[0;34m\u001b[0m\u001b[0;34m\u001b[0m\u001b[0m\n\u001b[0;32m--> 161\u001b[0;31m   \u001b[0mcall_collection\u001b[0m \u001b[0;34m=\u001b[0m \u001b[0mLayerCallCollection\u001b[0m\u001b[0;34m(\u001b[0m\u001b[0mlayer\u001b[0m\u001b[0;34m)\u001b[0m\u001b[0;34m\u001b[0m\u001b[0;34m\u001b[0m\u001b[0m\n\u001b[0m\u001b[1;32m    162\u001b[0m   call_fn_with_losses = call_collection.add_function(\n\u001b[1;32m    163\u001b[0m       \u001b[0m_wrap_call_and_conditional_losses\u001b[0m\u001b[0;34m(\u001b[0m\u001b[0mlayer\u001b[0m\u001b[0;34m)\u001b[0m\u001b[0;34m,\u001b[0m\u001b[0;34m\u001b[0m\u001b[0;34m\u001b[0m\u001b[0m\n",
      "\u001b[0;32m~/miniconda3/envs/thesis/lib/python3.8/site-packages/tensorflow/python/keras/saving/saved_model/save_impl.py\u001b[0m in \u001b[0;36m__init__\u001b[0;34m(self, layer)\u001b[0m\n\u001b[1;32m    352\u001b[0m                             arg_spec.varkw)\n\u001b[1;32m    353\u001b[0m \u001b[0;34m\u001b[0m\u001b[0m\n\u001b[0;32m--> 354\u001b[0;31m     \u001b[0mself\u001b[0m\u001b[0;34m.\u001b[0m\u001b[0m_input_signature\u001b[0m \u001b[0;34m=\u001b[0m \u001b[0mself\u001b[0m\u001b[0;34m.\u001b[0m\u001b[0m_generate_input_signature\u001b[0m\u001b[0;34m(\u001b[0m\u001b[0mlayer\u001b[0m\u001b[0;34m)\u001b[0m\u001b[0;34m\u001b[0m\u001b[0;34m\u001b[0m\u001b[0m\n\u001b[0m\u001b[1;32m    355\u001b[0m     \u001b[0mself\u001b[0m\u001b[0;34m.\u001b[0m\u001b[0m_functions\u001b[0m \u001b[0;34m=\u001b[0m \u001b[0mweakref\u001b[0m\u001b[0;34m.\u001b[0m\u001b[0mWeakValueDictionary\u001b[0m\u001b[0;34m(\u001b[0m\u001b[0;34m)\u001b[0m\u001b[0;34m\u001b[0m\u001b[0;34m\u001b[0m\u001b[0m\n\u001b[1;32m    356\u001b[0m     \u001b[0;31m# Bool indicating whether this object is currently tracing the layer call\u001b[0m\u001b[0;34m\u001b[0m\u001b[0;34m\u001b[0m\u001b[0;34m\u001b[0m\u001b[0m\n",
      "\u001b[0;32m~/miniconda3/envs/thesis/lib/python3.8/site-packages/tensorflow/python/keras/saving/saved_model/save_impl.py\u001b[0m in \u001b[0;36m_generate_input_signature\u001b[0;34m(self, layer)\u001b[0m\n\u001b[1;32m    380\u001b[0m       \u001b[0;32mreturn\u001b[0m \u001b[0msaving_utils\u001b[0m\u001b[0;34m.\u001b[0m\u001b[0mmodel_input_signature\u001b[0m\u001b[0;34m(\u001b[0m\u001b[0mlayer\u001b[0m\u001b[0;34m)\u001b[0m\u001b[0;34m\u001b[0m\u001b[0;34m\u001b[0m\u001b[0m\n\u001b[1;32m    381\u001b[0m     elif (layer.input_spec is not None and\n\u001b[0;32m--> 382\u001b[0;31m           layer._use_input_spec_as_call_signature):  # pylint: disable=protected-access\n\u001b[0m\u001b[1;32m    383\u001b[0m \u001b[0;34m\u001b[0m\u001b[0m\n\u001b[1;32m    384\u001b[0m       \u001b[0;32mdef\u001b[0m \u001b[0mto_tensor_spec_or_none\u001b[0m\u001b[0;34m(\u001b[0m\u001b[0mx\u001b[0m\u001b[0;34m)\u001b[0m\u001b[0;34m:\u001b[0m\u001b[0;34m\u001b[0m\u001b[0;34m\u001b[0m\u001b[0m\n",
      "\u001b[0;32m~/miniconda3/envs/thesis/lib/python3.8/site-packages/tensorflow/python/keras/layers/recurrent.py\u001b[0m in \u001b[0;36m_use_input_spec_as_call_signature\u001b[0;34m(self)\u001b[0m\n\u001b[1;32m    447\u001b[0m   \u001b[0;34m@\u001b[0m\u001b[0mproperty\u001b[0m\u001b[0;34m\u001b[0m\u001b[0;34m\u001b[0m\u001b[0m\n\u001b[1;32m    448\u001b[0m   \u001b[0;32mdef\u001b[0m \u001b[0m_use_input_spec_as_call_signature\u001b[0m\u001b[0;34m(\u001b[0m\u001b[0mself\u001b[0m\u001b[0;34m)\u001b[0m\u001b[0;34m:\u001b[0m\u001b[0;34m\u001b[0m\u001b[0;34m\u001b[0m\u001b[0m\n\u001b[0;32m--> 449\u001b[0;31m     \u001b[0;32mif\u001b[0m \u001b[0mself\u001b[0m\u001b[0;34m.\u001b[0m\u001b[0munroll\u001b[0m\u001b[0;34m:\u001b[0m\u001b[0;34m\u001b[0m\u001b[0;34m\u001b[0m\u001b[0m\n\u001b[0m\u001b[1;32m    450\u001b[0m       \u001b[0;31m# When the RNN layer is unrolled, the time step shape cannot be unknown.\u001b[0m\u001b[0;34m\u001b[0m\u001b[0;34m\u001b[0m\u001b[0;34m\u001b[0m\u001b[0m\n\u001b[1;32m    451\u001b[0m       \u001b[0;31m# The input spec does not define the time step (because this layer can be\u001b[0m\u001b[0;34m\u001b[0m\u001b[0;34m\u001b[0m\u001b[0;34m\u001b[0m\u001b[0m\n",
      "\u001b[0;31mAttributeError\u001b[0m: 'CuDNNLSTM' object has no attribute 'unroll'"
     ]
    }
   ],
   "source": [
    "save_dir = '/media/tord/T7/Thesis_ssd/SavedModels/LSTM'\n",
    "model_name = 'LSTM_baseline_EE_final'\n",
    "model_path = f'{save_dir}/{model_name}'\n",
    "\n",
    "model.save(model_path)\n",
    "#model = helper.load_model(model_path)"
   ]
  },
  {
   "cell_type": "code",
   "execution_count": null,
   "id": "young-nerve",
   "metadata": {},
   "outputs": [],
   "source": [
    "def get_false_negative_indexes(rounded_predictions, y_test):\n",
    "    false_negative_indexes = []\n",
    "    for i in range(len(rounded_predictions)):\n",
    "        if y_test[i] == 1 and rounded_predictions[i] == 0:\n",
    "            false_negative_indexes.append(i)\n",
    "    return false_negative_indexes\n",
    "\n",
    "def get_false_positive_indexes(rounded_predictions, y_test):\n",
    "    false_positive_indexes = []\n",
    "    for i in range(len(rounded_predictions)):\n",
    "        if y_test[i] == 0 and rounded_predictions[i] == 1:\n",
    "            false_positive_indexes.append(i)\n",
    "    return false_positive_indexes\n",
    "\n",
    "def get_true_positive_indexes(rouneded_predictions, y_test):\n",
    "    true_positive_indexes = []\n",
    "    for i in range(len(rounded_predictions)):\n",
    "        if y_test[i] == 1 and rounded_predictions[i] == 1:\n",
    "            true_positive_indexes.append(i)\n",
    "    return true_positive_indexes\n",
    "\n",
    "def get_true_negative_indexes(rouneded_predictions, y_test):\n",
    "    true_negative_indexes = []\n",
    "    for i in range(len(rounded_predictions)):\n",
    "        if y_test[i] == 0 and rounded_predictions[i] == 0:\n",
    "            true_negative_indexes.append(i)\n",
    "    return true_negative_indexes\n",
    "\n",
    "predictions = helper.predict_RamGenerator(model, x_val, y_val, params[\"batch_size\"], True, noiseAug, loadData.label_dict, 3)\n",
    "rounded_predictions = np.rint(predictions)\n",
    "y = y_val\n",
    "\n",
    "\n",
    "false_negatives_indexes = get_false_negative_indexes(rounded_predictions, y)\n",
    "false_positives_indexes = get_false_positive_indexes(rounded_predictions, y)\n",
    "true_negative_indexes = get_true_negative_indexes(rounded_predictions, y)\n",
    "true_positive_indexes = get_true_positive_indexes(rounded_predictions, y)"
   ]
  },
  {
   "cell_type": "markdown",
   "id": "spoken-radius",
   "metadata": {},
   "source": [
    "# True Positive"
   ]
  },
  {
   "cell_type": "code",
   "execution_count": null,
   "id": "detailed-karen",
   "metadata": {},
   "outputs": [],
   "source": [
    "import pprint\n",
    "i = 0\n",
    "pp = pprint.PrettyPrinter(indent = 4)"
   ]
  },
  {
   "cell_type": "code",
   "execution_count": null,
   "id": "aquatic-destination",
   "metadata": {
    "scrolled": false
   },
   "outputs": [],
   "source": [
    "index = true_positive_indexes[i]\n",
    "original_trace, sample_info = handler.path_to_trace(val_ds[index][0])\n",
    "transformed_trace = x_val[index]\n",
    "print(f\"Predicted label: {predictions[index]}, Correct: {y_val[index]}\")\n",
    "print(\"Transformed\")\n",
    "helper.plot_event(transformed_trace, sample_info)\n",
    "helper.plot_event(original_trace, sample_info)\n",
    "pp = pprint.PrettyPrinter(indent=4)\n",
    "pp.pprint(sample_info)\n",
    "i += 1"
   ]
  },
  {
   "cell_type": "markdown",
   "id": "sealed-studio",
   "metadata": {},
   "source": [
    "# False Positive"
   ]
  },
  {
   "cell_type": "code",
   "execution_count": null,
   "id": "extensive-suggestion",
   "metadata": {},
   "outputs": [],
   "source": [
    "j = 0"
   ]
  },
  {
   "cell_type": "code",
   "execution_count": null,
   "id": "absent-basketball",
   "metadata": {
    "scrolled": false
   },
   "outputs": [],
   "source": [
    "# Plotting false negative\n",
    "index = false_positives_indexes[j]\n",
    "original_trace, sample_info = handler.path_to_trace(val_ds[index][0])\n",
    "transformed_trace = x_val[index]\n",
    "print(f\"Predicted label: {predictions[index]}, Correct: {y_val[index]}\")\n",
    "print(\"Transformed\")\n",
    "print(j)\n",
    "helper.plot_event(transformed_trace, sample_info)\n",
    "helper.plot_event(original_trace, sample_info)\n",
    "pp = pprint.PrettyPrinter(indent=4)\n",
    "pp.pprint(sample_info)\n",
    "j += 1"
   ]
  },
  {
   "cell_type": "markdown",
   "id": "honey-retention",
   "metadata": {},
   "source": [
    "# True Negative"
   ]
  },
  {
   "cell_type": "code",
   "execution_count": null,
   "id": "nominated-force",
   "metadata": {},
   "outputs": [],
   "source": [
    "k = 0"
   ]
  },
  {
   "cell_type": "code",
   "execution_count": null,
   "id": "continued-color",
   "metadata": {
    "scrolled": false
   },
   "outputs": [],
   "source": [
    "# Plotting true negative\n",
    "index = true_negative_indexes[k]\n",
    "original_trace, sample_info = handler.path_to_trace(val_ds[index][0])\n",
    "transformed_trace = x_val[index]\n",
    "print(f\"Predicted label: {predictions[index]}, Correct: {y_val[index]}\")\n",
    "print(\"Transformed\")\n",
    "helper.plot_event(transformed_trace, sample_info)\n",
    "helper.plot_event(original_trace, sample_info)\n",
    "pp = pprint.PrettyPrinter(indent=4)\n",
    "pp.pprint(sample_info)\n",
    "k += 1"
   ]
  },
  {
   "cell_type": "markdown",
   "id": "incorrect-newton",
   "metadata": {},
   "source": [
    "# False Negative"
   ]
  },
  {
   "cell_type": "code",
   "execution_count": null,
   "id": "greenhouse-cancer",
   "metadata": {},
   "outputs": [],
   "source": [
    "m = 0"
   ]
  },
  {
   "cell_type": "code",
   "execution_count": null,
   "id": "emotional-builder",
   "metadata": {
    "scrolled": false
   },
   "outputs": [],
   "source": [
    "# Plotting false negative\n",
    "index = false_negatives_indexes[m]\n",
    "original_trace, sample_info = handler.path_to_trace(val_ds[index][0])\n",
    "transformed_trace = x_val[index]\n",
    "print(f\"Predicted label: {predictions[index]}, Correct: {y_val[index]}\")\n",
    "print(\"Transformed\")\n",
    "print(m)\n",
    "helper.plot_event(transformed_trace, sample_info)\n",
    "helper.plot_event(original_trace, sample_info)\n",
    "pp = pprint.PrettyPrinter(indent=4)\n",
    "pp.pprint(sample_info)\n",
    "m += 1"
   ]
  },
  {
   "cell_type": "code",
   "execution_count": null,
   "id": "expensive-output",
   "metadata": {},
   "outputs": [],
   "source": []
  },
  {
   "cell_type": "code",
   "execution_count": null,
   "id": "incident-mozambique",
   "metadata": {},
   "outputs": [],
   "source": []
  },
  {
   "cell_type": "code",
   "execution_count": null,
   "id": "corresponding-quantum",
   "metadata": {},
   "outputs": [],
   "source": []
  },
  {
   "cell_type": "code",
   "execution_count": null,
   "id": "portuguese-patch",
   "metadata": {},
   "outputs": [],
   "source": []
  },
  {
   "cell_type": "code",
   "execution_count": null,
   "id": "binding-maker",
   "metadata": {},
   "outputs": [],
   "source": []
  },
  {
   "cell_type": "code",
   "execution_count": null,
   "id": "matched-framing",
   "metadata": {},
   "outputs": [],
   "source": []
  },
  {
   "cell_type": "code",
   "execution_count": null,
   "id": "alive-anger",
   "metadata": {},
   "outputs": [],
   "source": []
  },
  {
   "cell_type": "code",
   "execution_count": null,
   "id": "composite-literature",
   "metadata": {},
   "outputs": [],
   "source": []
  },
  {
   "cell_type": "code",
   "execution_count": null,
   "id": "automotive-original",
   "metadata": {},
   "outputs": [],
   "source": []
  },
  {
   "cell_type": "code",
   "execution_count": null,
   "id": "original-arkansas",
   "metadata": {},
   "outputs": [],
   "source": []
  },
  {
   "cell_type": "code",
   "execution_count": null,
   "id": "middle-pharmaceutical",
   "metadata": {},
   "outputs": [],
   "source": []
  },
  {
   "cell_type": "code",
   "execution_count": null,
   "id": "fluid-broadcast",
   "metadata": {},
   "outputs": [],
   "source": []
  },
  {
   "cell_type": "code",
   "execution_count": null,
   "id": "inside-entertainment",
   "metadata": {},
   "outputs": [],
   "source": []
  },
  {
   "cell_type": "code",
   "execution_count": null,
   "id": "bizarre-trance",
   "metadata": {},
   "outputs": [],
   "source": []
  },
  {
   "cell_type": "code",
   "execution_count": null,
   "id": "accessory-objective",
   "metadata": {},
   "outputs": [],
   "source": []
  },
  {
   "cell_type": "code",
   "execution_count": null,
   "id": "american-veteran",
   "metadata": {},
   "outputs": [],
   "source": []
  },
  {
   "cell_type": "code",
   "execution_count": null,
   "id": "animal-barcelona",
   "metadata": {},
   "outputs": [],
   "source": []
  },
  {
   "cell_type": "code",
   "execution_count": null,
   "id": "vital-article",
   "metadata": {},
   "outputs": [],
   "source": []
  },
  {
   "cell_type": "code",
   "execution_count": null,
   "id": "hybrid-hundred",
   "metadata": {},
   "outputs": [],
   "source": []
  },
  {
   "cell_type": "code",
   "execution_count": null,
   "id": "whole-regulation",
   "metadata": {},
   "outputs": [],
   "source": []
  },
  {
   "cell_type": "code",
   "execution_count": null,
   "id": "studied-ordinary",
   "metadata": {},
   "outputs": [],
   "source": []
  },
  {
   "cell_type": "code",
   "execution_count": null,
   "id": "final-melbourne",
   "metadata": {},
   "outputs": [],
   "source": []
  }
 ],
 "metadata": {
  "kernelspec": {
   "display_name": "thesis",
   "language": "python",
   "name": "thesis"
  },
  "language_info": {
   "codemirror_mode": {
    "name": "ipython",
    "version": 3
   },
   "file_extension": ".py",
   "mimetype": "text/x-python",
   "name": "python",
   "nbconvert_exporter": "python",
   "pygments_lexer": "ipython3",
   "version": "3.8.5"
  }
 },
 "nbformat": 4,
 "nbformat_minor": 5
}
