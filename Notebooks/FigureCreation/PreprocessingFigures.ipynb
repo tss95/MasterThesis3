{
 "cells": [
  {
   "cell_type": "code",
   "execution_count": 1,
   "id": "municipal-creator",
   "metadata": {},
   "outputs": [],
   "source": [
    "#!/usr/bin/env python\n",
    "import numpy as np\n",
    "import pandas as pd\n",
    "import h5py\n",
    "import matplotlib.pyplot as plt\n",
    "import pprint\n",
    "import json\n",
    "\n",
    "import numpy as np\n",
    "import pandas as pd\n",
    "import obspy\n",
    "import math\n",
    "\n",
    "import matplotlib.pyplot as plt\n",
    "import seaborn as sns\n",
    "\n",
    "import pylab as pl\n",
    "import time\n",
    "\n",
    "from matplotlib.colors import ListedColormap\n",
    "plt.rcParams[\"figure.figsize\"]= (15,15)\n",
    "from matplotlib import rcParams, cycler\n",
    "import matplotlib.colors as colors\n",
    "from matplotlib import cm\n",
    "\n",
    "\n",
    "import sys\n",
    "import os\n",
    "ISCOLAB = 'google.colab' in sys.modules\n",
    "\n",
    "import random\n",
    "import json\n",
    "import pprint\n",
    "from obspy import Stream, Trace, UTCDateTime\n",
    "sns.set(style='white', context='notebook', rc={'figure.figsize':(14,10)})\n",
    "\n",
    "base_dir = '/media/tord/T7/Thesis_ssd/MasterThesis3/'\n",
    "os.chdir(base_dir)\n",
    "\n",
    "from Classes.DataProcessing.LoadData import LoadData\n",
    "from Classes.DataProcessing.HelperFunctions import HelperFunctions\n",
    "from Classes.DataProcessing.DataHandler import DataHandler\n",
    "from Classes.DataProcessing.TimeAugmentor import TimeAugmentor\n",
    "import json\n",
    "\n",
    "SMALL_SIZE = 16\n",
    "MEDIUM_SIZE = 16\n",
    "BIGGER_SIZE = 18\n",
    "\n",
    "plt.rc('font', size=MEDIUM_SIZE)          # controls default text sizes\n",
    "plt.rc('axes', titlesize=MEDIUM_SIZE)     # fontsize of the axes title\n",
    "plt.rc('axes', labelsize=MEDIUM_SIZE)    # fontsize of the x and y labels\n",
    "plt.rc('xtick', labelsize=SMALL_SIZE)    # fontsize of the tick labels\n",
    "plt.rc('ytick', labelsize=SMALL_SIZE)    # fontsize of the tick labels\n",
    "plt.rc('legend', fontsize=SMALL_SIZE)    # legend fontsize\n",
    "plt.rc('figure', titlesize=BIGGER_SIZE)  # fontsize of the figure title\n",
    "\n",
    "\n",
    "#%matplotlib notebook\n",
    "helper = HelperFunctions()"
   ]
  },
  {
   "cell_type": "code",
   "execution_count": 2,
   "id": "incorporated-meaning",
   "metadata": {},
   "outputs": [
    {
     "name": "stdout",
     "output_type": "stream",
     "text": [
      "2 2\n",
      "Mapping redundancy: [--------------------------------------->] 100 %\r"
     ]
    }
   ],
   "source": [
    "load_args = {\n",
    "    'earth_explo_only' : True,\n",
    "    'noise_earth_only' : False,\n",
    "    'noise_not_noise' : False,\n",
    "    'downsample' : True,\n",
    "    'upsample' : True,\n",
    "    'frac_diff' : 1,\n",
    "    'seed' : 1,\n",
    "    'subsample_size' : 0.05,\n",
    "    'balance_non_train_set' : True,\n",
    "    'use_true_test_set' : False,\n",
    "    'even_balance' : True\n",
    "}\n",
    "loadData = LoadData(**load_args)\n",
    "full_ds, train_ds, val_ds, test_ds = loadData.get_datasets()\n",
    "noise_ds = loadData.noise_ds\n",
    "handler = DataHandler(loadData)"
   ]
  },
  {
   "cell_type": "markdown",
   "id": "sought-resolution",
   "metadata": {},
   "source": [
    "## Time Augmentation"
   ]
  },
  {
   "cell_type": "code",
   "execution_count": null,
   "id": "skilled-housing",
   "metadata": {},
   "outputs": [],
   "source": [
    "load_args = {\n",
    "    'earth_explo_only' : True,\n",
    "    'noise_earth_only' : False,\n",
    "    'noise_not_noise' : False,\n",
    "    'downsample' : True,\n",
    "    'upsample' : True,\n",
    "    'frac_diff' : 1,\n",
    "    'seed' : 1,\n",
    "    'subsample_size' : 0.05,\n",
    "    'balance_non_train_set' : False,\n",
    "    'use_true_test_set' : False,\n",
    "    'even_balance' : False\n",
    "}\n",
    "loadData = LoadData(**load_args)\n",
    "full_ds, train_ds, val_ds, test_ds = loadData.get_datasets()\n",
    "noise_ds = loadData.noise_ds\n",
    "handler = DataHandler(loadData)\n",
    "\n"
   ]
  },
  {
   "cell_type": "code",
   "execution_count": null,
   "id": "consolidated-timeline",
   "metadata": {},
   "outputs": [],
   "source": [
    "use_time_augmentor = False\n",
    "use_noise_augmentor = True\n",
    "use_scaler = False\n",
    "use_minmax = False\n",
    "filter_name = \"bandpass\"\n",
    "band_min = 2.0\n",
    "band_max = 4.0\n",
    "highpass_freq = 0.1\n",
    "\n",
    "load_test_set = False\n",
    "\n",
    "\n",
    "ramLoader = RamLoader(loadData, handler, use_time_augmentor = use_time_augmentor, use_noise_augmentor = use_noise_augmentor, \n",
    "                      use_scaler = use_scaler, use_minmax = use_minmax, filter_name = filter_name, \n",
    "                      band_min = band_min, band_max = band_max, highpass_freq = highpass_freq, load_test_set = load_test_set)\n",
    "train_trace, train_label, val_trace, val_label, timeAug, scaler, noiseAug = ramLoader.load_to_ram()"
   ]
  }
 ],
 "metadata": {
  "kernelspec": {
   "display_name": "thesis",
   "language": "python",
   "name": "thesis"
  },
  "language_info": {
   "codemirror_mode": {
    "name": "ipython",
    "version": 3
   },
   "file_extension": ".py",
   "mimetype": "text/x-python",
   "name": "python",
   "nbconvert_exporter": "python",
   "pygments_lexer": "ipython3",
   "version": "3.8.5"
  }
 },
 "nbformat": 4,
 "nbformat_minor": 5
}
