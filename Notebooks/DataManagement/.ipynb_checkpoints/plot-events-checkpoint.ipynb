{
 "cells": [
  {
   "cell_type": "markdown",
   "metadata": {},
   "source": [
    "This notebook show how to open the .h5 files that contain instrument data (waveforms) and metadata for each event."
   ]
  },
  {
   "cell_type": "code",
   "execution_count": null,
   "metadata": {},
   "outputs": [],
   "source": [
    "import h5py\n",
    "import numpy as np\n",
    "import json\n",
    "import matplotlib.pyplot as plt\n",
    "%matplotlib inline"
   ]
  },
  {
   "cell_type": "code",
   "execution_count": null,
   "metadata": {},
   "outputs": [],
   "source": [
    "ls "
   ]
  },
  {
   "cell_type": "markdown",
   "metadata": {},
   "source": [
    "Each file contains two HDF5 datasets, which are accessed by name:\n",
    " - 'event_info', an array of JSON strings, where element has info about the location, type, etc of the event\n",
    " - 'traces', an array of numpy arrays, of shape (num events, num waveforms, waveform length) "
   ]
  },
  {
   "cell_type": "code",
   "execution_count": null,
   "metadata": {},
   "outputs": [],
   "source": [
    "with h5py.File('earthquake_sample_events.h5', 'r') as fin:\n",
    "    event_info_dataset = fin.get('event_info')\n",
    "    trace_dataset = fin.get('traces')\n",
    "    \n",
    "    # Convert to numpy arrays\n",
    "    eq_event_info = np.array(event_info_dataset)\n",
    "    eq_trace_data = np.array(trace_dataset)\n",
    "\n",
    "print(f'Loaded {eq_event_info.shape[0]} earthquake events')"
   ]
  },
  {
   "cell_type": "markdown",
   "metadata": {},
   "source": [
    "'event_info' contains JSON strings, which can be imported as python dicts. Let's look at the first one:"
   ]
  },
  {
   "cell_type": "code",
   "execution_count": null,
   "metadata": {
    "scrolled": false
   },
   "outputs": [],
   "source": [
    "event_info_dict = json.loads(eq_event_info[0])\n",
    "print(json.dumps(event_info_dict, indent=2))"
   ]
  },
  {
   "cell_type": "markdown",
   "metadata": {},
   "source": [
    "There is a lot of info here, but the important fields are"
   ]
  },
  {
   "cell_type": "code",
   "execution_count": null,
   "metadata": {},
   "outputs": [],
   "source": [
    "print('Event type: {} {}'.format(event_info_dict['event_type_certainty'], event_info_dict['event_type']))\n",
    "print('Event time and location: {}, {}N {}E'.format(\n",
    "    event_info_dict['origins'][0]['time'],\n",
    "    event_info_dict['origins'][0]['latitude'],\n",
    "    event_info_dict['origins'][0]['longitude'],\n",
    "))\n"
   ]
  },
  {
   "cell_type": "markdown",
   "metadata": {},
   "source": [
    "We can now plot the traces (waveforms) of this event"
   ]
  },
  {
   "cell_type": "code",
   "execution_count": null,
   "metadata": {},
   "outputs": [],
   "source": [
    "traces = eq_trace_data[0]\n",
    "print('{} traces, {} time points per trace'.format(traces.shape[0], traces.shape[1]))"
   ]
  },
  {
   "cell_type": "code",
   "execution_count": null,
   "metadata": {},
   "outputs": [],
   "source": [
    "# make a simple plot\n",
    "fig, axs = plt.subplots(3, 1, sharex=True)\n",
    "xvals = list(range(len(traces[0])))\n",
    "for i in range(3):\n",
    "    axs[i].plot(xvals, traces[i])"
   ]
  },
  {
   "cell_type": "markdown",
   "metadata": {},
   "source": [
    "The events data looks a bit useless, but this is because we are looking at raw, unfiltered data. The _Obspy_ library has a lot of useful routines for signal processing, shown in the 'using-obspy' notebook "
   ]
  },
  {
   "cell_type": "code",
   "execution_count": null,
   "metadata": {},
   "outputs": [],
   "source": [
    "# Same but for explosions\n",
    "with h5py.File('explosion_sample_events.h5', 'r') as fin:\n",
    "    event_info_dataset = fin.get('event_info')\n",
    "    trace_dataset = fin.get('traces')\n",
    "    \n",
    "    ex_event_info = np.array(event_info_dataset)\n",
    "    ex_trace_data = np.array(trace_dataset)\n",
    "\n",
    "print(f'Loaded {ex_event_info.shape[0]} explosion events')"
   ]
  },
  {
   "cell_type": "markdown",
   "metadata": {},
   "source": [
    "For explosion events, there is typically extra info listed as 'comments', containing the name of the mine where the explosion took place."
   ]
  },
  {
   "cell_type": "code",
   "execution_count": null,
   "metadata": {},
   "outputs": [],
   "source": [
    "event_info_dict = json.loads(ex_event_info[0])\n",
    "\n",
    "print('Event type: {} {}'.format(event_info_dict['event_type_certainty'], event_info_dict['event_type']))\n",
    "for comment in event_info_dict['comments']:\n",
    "    print(comment['text'])\n"
   ]
  },
  {
   "cell_type": "code",
   "execution_count": null,
   "metadata": {},
   "outputs": [],
   "source": []
  }
 ],
 "metadata": {
  "kernelspec": {
   "display_name": "Python 3",
   "language": "python",
   "name": "python3"
  },
  "language_info": {
   "codemirror_mode": {
    "name": "ipython",
    "version": 3
   },
   "file_extension": ".py",
   "mimetype": "text/x-python",
   "name": "python",
   "nbconvert_exporter": "python",
   "pygments_lexer": "ipython3",
   "version": "3.6.7"
  }
 },
 "nbformat": 4,
 "nbformat_minor": 2
}
