{
 "cells": [
  {
   "cell_type": "code",
   "execution_count": 1,
   "metadata": {},
   "outputs": [],
   "source": [
    "import json\n",
    "import h5py\n",
    "import numpy as np\n",
    "import pandas as pd\n",
    "import h5py as h5\n",
    "import json\n",
    "import sys\n",
    "import os\n",
    "import csv\n",
    "import re\n",
    "import random\n",
    "import pprint\n",
    "import shutil, os\n",
    "\n",
    "from sklearn.model_selection import train_test_split"
   ]
  },
  {
   "cell_type": "code",
   "execution_count": 2,
   "metadata": {},
   "outputs": [],
   "source": [
    "root = 'data_tord_may2020'\n",
    "explo_path = f'{root}/explosions/'\n",
    "earth_path = f'{root}/earthquakes/'\n",
    "noise_path = f'{root}/noise/'\n",
    "induced_path = f'{root}/induced/'\n",
    "data_csv = 'event_paths_no_nan_no_induced.csv'\n",
    "balanced_csv = 'balanced_csv_3_class.csv'"
   ]
  },
  {
   "cell_type": "code",
   "execution_count": 3,
   "metadata": {},
   "outputs": [],
   "source": [
    "def path_to_trace(path):\n",
    "    trace_array = np.empty((3,6001))\n",
    "    with h5py.File(path, 'r') as dp:\n",
    "        trace_array[:3] = dp.get('traces')\n",
    "        info = np.array(dp.get('event_info'))\n",
    "        info = json.loads(str(info))\n",
    "    # No event type for noise, so handling that below\n",
    "    if path.split('/')[1] == 'noise':\n",
    "        label = 'noise'\n",
    "    else:\n",
    "        label = info['event_type']\n",
    "    # Since we consider induced earthquakes as earthquakes we need to handle that as well:\n",
    "    if label == \"induced or triggered event\":\n",
    "        label = \"earthquake\"\n",
    "    return trace_array, label, info\n",
    "\n",
    "\n",
    "def verify_directories(root):\n",
    "    for event_type in os.listdir(root):\n",
    "            if event_type == 'induced':\n",
    "                continue\n",
    "            event_list = os.listdir(root+'/'+event_type)\n",
    "            print(event_type)\n",
    "            for event in event_list:\n",
    "                path = f'{root}/{event_type}/{event}'\n",
    "                _, label, _ = path_to_trace(path)\n",
    "                if (event_type != \"noise\") and (event_type != label + 's'):\n",
    "                    print(f'{event_type} != {label}')\n",
    "                    correct_directories(path, f'{root}/{label}s/{event}')\n",
    "                if (event_type == \"noise\") and (event_type != label):\n",
    "                    correct_directories(path, f'{root}/{label}s/{event}')\n",
    "                    \n",
    "def correct_directories(source, destination):\n",
    "    shutil.move(source, destination)"
   ]
  },
  {
   "cell_type": "code",
   "execution_count": 4,
   "metadata": {},
   "outputs": [
    {
     "name": "stdout",
     "output_type": "stream",
     "text": [
      "earthquakes\n",
      "explosions\n",
      "noise\n"
     ]
    }
   ],
   "source": [
    "verify_directories(root)"
   ]
  }
 ],
 "metadata": {
  "kernelspec": {
   "display_name": "FastAI 2",
   "language": "python",
   "name": "fastai2"
  },
  "language_info": {
   "codemirror_mode": {
    "name": "ipython",
    "version": 3
   },
   "file_extension": ".py",
   "mimetype": "text/x-python",
   "name": "python",
   "nbconvert_exporter": "python",
   "pygments_lexer": "ipython3",
   "version": "3.6.10"
  }
 },
 "nbformat": 4,
 "nbformat_minor": 4
}
