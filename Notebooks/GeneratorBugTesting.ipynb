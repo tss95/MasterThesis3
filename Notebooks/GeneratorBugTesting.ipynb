{
 "cells": [
  {
   "cell_type": "code",
   "execution_count": 1,
   "metadata": {},
   "outputs": [
    {
     "name": "stderr",
     "output_type": "stream",
     "text": [
      "Using TensorFlow backend.\n"
     ]
    }
   ],
   "source": [
    "import numpy as np\n",
    "import pandas as pd\n",
    "import h5py\n",
    "import csv\n",
    "from DataGenerator import DataGenerator\n",
    "from Models import Models\n",
    "from LoadData import LoadData\n",
    "from BaselineHelperFunctions import BaselineHelperFunctions\n",
    "from RandomGridSearch import RandomGridSearch\n",
    "import tensorflow as tf"
   ]
  },
  {
   "cell_type": "code",
   "execution_count": 2,
   "metadata": {},
   "outputs": [],
   "source": [
    "csv_root = 'csv_folder_3_class'\n",
    "full_data_csv, train_csv, val_csv, test_csv = LoadData(csv_root, isBalanced = True).getData()\n",
    "data_gen = DataGenerator(csv_root, train_csv, val_csv, test_csv)\n",
    "full_ds = data_gen.load_dataset(full_data_csv)\n",
    "train_ds = data_gen.load_dataset(train_csv)\n",
    "val_ds = data_gen.load_dataset(val_csv)\n",
    "test_ds = data_gen.load_dataset(test_csv)\n"
   ]
  },
  {
   "cell_type": "code",
   "execution_count": 3,
   "metadata": {},
   "outputs": [],
   "source": [
    "def get_trace_shape_no_cast(ds):\n",
    "    num_ds = len(ds)\n",
    "    with h5py.File(ds[0][0], 'r') as dp:\n",
    "        trace_shape = dp.get('traces').shape\n",
    "    return num_ds, trace_shape[0], trace_shape[1]"
   ]
  },
  {
   "cell_type": "code",
   "execution_count": 4,
   "metadata": {},
   "outputs": [
    {
     "data": {
      "text/plain": [
       "(2878, 3, 6001)"
      ]
     },
     "execution_count": 4,
     "metadata": {},
     "output_type": "execute_result"
    }
   ],
   "source": [
    "get_trace_shape_no_cast(val_ds)"
   ]
  },
  {
   "cell_type": "code",
   "execution_count": 5,
   "metadata": {},
   "outputs": [],
   "source": [
    "def load_datasets(data_csv):\n",
    "        nr_rows = 0\n",
    "        with open(data_csv, 'r') as file:\n",
    "            csv_reader = csv.reader(file, delimiter = ',')\n",
    "            nr_rows = len(list(csv_reader))\n",
    "        dataset = np.empty((nr_rows, 2), dtype=object)\n",
    "        with open(data_csv, 'r') as file:\n",
    "            csv_reader = csv.reader(file, delimiter = ',')\n",
    "            idx = 0\n",
    "            for row in csv_reader:\n",
    "                dataset[idx][0] = row[0]\n",
    "                dataset[idx][1] = row[1]\n",
    "                idx += 1\n",
    "            return dataset"
   ]
  },
  {
   "cell_type": "code",
   "execution_count": 6,
   "metadata": {},
   "outputs": [],
   "source": [
    "df_2 = load_datasets(train_csv)"
   ]
  },
  {
   "cell_type": "code",
   "execution_count": 7,
   "metadata": {},
   "outputs": [
    {
     "data": {
      "text/plain": [
       "array([], dtype=object)"
      ]
     },
     "execution_count": 7,
     "metadata": {},
     "output_type": "execute_result"
    }
   ],
   "source": [
    "np.unique(df_2[16444:16445])"
   ]
  },
  {
   "cell_type": "code",
   "execution_count": 8,
   "metadata": {},
   "outputs": [],
   "source": [
    "def load_dataset(data_csv):\n",
    "    columns = [\"path\", \"label\"]\n",
    "    df = pd.read_csv(data_csv, names = columns)\n",
    "    return df.values"
   ]
  },
  {
   "cell_type": "code",
   "execution_count": 9,
   "metadata": {},
   "outputs": [],
   "source": [
    "df = load_dataset(train_csv)"
   ]
  },
  {
   "cell_type": "code",
   "execution_count": 10,
   "metadata": {},
   "outputs": [
    {
     "data": {
      "text/plain": [
       "array([], shape=(0, 2), dtype=object)"
      ]
     },
     "execution_count": 10,
     "metadata": {},
     "output_type": "execute_result"
    }
   ],
   "source": [
    "len(df)\n",
    "df[16444:16445]"
   ]
  },
  {
   "cell_type": "code",
   "execution_count": 11,
   "metadata": {},
   "outputs": [],
   "source": [
    "model_nr = 4\n",
    "    \n",
    "batch_size = 128\n",
    "epochs = 100\n",
    "learning_rate = 0.0001\n",
    "opt = tf.keras.optimizers.RMSprop(learning_rate=learning_rate)\n",
    "activation = 'tanh'\n",
    "dropout_rate = 0.2\n",
    "l1_r = 0.2\n",
    "l2_r = 0.001\n",
    "start_neurons = 512\n",
    "\n",
    "test = False\n",
    "num_classes = 3\n",
    "detrend = False\n",
    "gen_args = {\n",
    "    'batch_size' : batch_size,\n",
    "    'shuffle' : True,\n",
    "    'test' : test,\n",
    "    'detrend' : False,\n",
    "    'num_classes' : num_classes,\n",
    "}\n"
   ]
  },
  {
   "cell_type": "code",
   "execution_count": 12,
   "metadata": {},
   "outputs": [],
   "source": [
    "train_gen = data_gen.data_generator(train_ds, **gen_args)\n",
    "val_gen = data_gen.data_generator(val_ds, **gen_args)"
   ]
  },
  {
   "cell_type": "code",
   "execution_count": 13,
   "metadata": {},
   "outputs": [
    {
     "ename": "SyntaxError",
     "evalue": "invalid syntax (<ipython-input-13-0cc0e6a7ba0b>, line 12)",
     "output_type": "error",
     "traceback": [
      "\u001b[1;36m  File \u001b[1;32m\"<ipython-input-13-0cc0e6a7ba0b>\"\u001b[1;36m, line \u001b[1;32m12\u001b[0m\n\u001b[1;33m    if i % 10 == 0 || i == nr_steps:\u001b[0m\n\u001b[1;37m                    ^\u001b[0m\n\u001b[1;31mSyntaxError\u001b[0m\u001b[1;31m:\u001b[0m invalid syntax\n"
     ]
    }
   ],
   "source": [
    "def check_labels(y, batch_size):\n",
    "    if not np.sum(y) == batch_size:\n",
    "        print(y)\n",
    "        return True\n",
    "    else:\n",
    "        return False\n",
    "\n",
    "\n",
    "def check_generator(gen, batch_size, nr_steps, train = True):\n",
    "    i = 0\n",
    "    for x_y in gen:\n",
    "        if i % 10 == 0 || i == nr_steps:\n",
    "            if train:\n",
    "                print(f'{i}/{nr_steps}')\n",
    "            else:\n",
    "                print(f'{i}/{nr_steps_val}')\n",
    "        if not i == nr_steps:\n",
    "            y = x_y[1]\n",
    "            check_labels(y, batch_size)\n",
    "            i += 1\n",
    "        else:\n",
    "            break\n",
    "\n",
    "nr_steps = len(train_ds) // batch_size\n",
    "nr_steps_val = len(val_ds) // batch_size\n",
    "check_generator(train_gen, batch_size, nr_steps)\n",
    "check_generator(val_gen, batch_size, nr_steps_val, False)\n",
    "    "
   ]
  },
  {
   "cell_type": "code",
   "execution_count": null,
   "metadata": {},
   "outputs": [],
   "source": []
  }
 ],
 "metadata": {
  "kernelspec": {
   "display_name": "FastAI 2",
   "language": "python",
   "name": "fastai2"
  },
  "language_info": {
   "codemirror_mode": {
    "name": "ipython",
    "version": 3
   },
   "file_extension": ".py",
   "mimetype": "text/x-python",
   "name": "python",
   "nbconvert_exporter": "python",
   "pygments_lexer": "ipython3",
   "version": "3.6.10"
  }
 },
 "nbformat": 4,
 "nbformat_minor": 4
}
