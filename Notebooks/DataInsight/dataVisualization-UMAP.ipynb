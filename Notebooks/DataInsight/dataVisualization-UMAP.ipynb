{
 "cells": [
  {
   "cell_type": "code",
   "execution_count": 1,
   "metadata": {},
   "outputs": [],
   "source": [
    "import numpy as np\n",
    "import pandas as pd\n",
    "\n",
    "import matplotlib.pyplot as plt\n",
    "import seaborn as sns\n",
    "\n",
    "import pylab as pl\n",
    "\n",
    "\n",
    "from DataGenerator import DataGenerator\n",
    "from Models import Models\n",
    "from LoadData import LoadData\n",
    "from BaselineHelperFunctions import BaselineHelperFunctions\n",
    "from RandomGridSearch import RandomGridSearch\n",
    "from CustomCallback import CustomCallback\n",
    "from MinMaxScalerFitter import MinMaxScalerFitter\n",
    "from StandardScalerFitter import StandardScalerFitter\n",
    "\n",
    "import umap\n",
    "from sklearn.svm import SVC\n",
    "from sklearn.neighbors import KNeighborsClassifier\n",
    "import seaborn as sns\n",
    "\n",
    "from matplotlib.colors import ListedColormap\n",
    "%matplotlib inline\n",
    "plt.rcParams[\"figure.figsize\"]= (15,15)\n",
    "helper = BaselineHelperFunctions()\n",
    "\n",
    "import sys\n",
    "ISCOLAB = 'google.colab' in sys.modules\n",
    "\n",
    "import random\n",
    "import pprint\n",
    "sns.set(style='white', context='notebook', rc={'figure.figsize':(14,10)})\n"
   ]
  },
  {
   "cell_type": "code",
   "execution_count": 2,
   "metadata": {},
   "outputs": [],
   "source": [
    "def y_to_sequence(y):\n",
    "    label_dict = {'explosion':0, 'earthquake':1, 'noise':2, 'induced':3}\n",
    "    y_seq = np.empty((len(y), 1))\n",
    "    for idx, label in enumerate(y):\n",
    "        y_seq[idx] = label_dict.get(label[0])\n",
    "        \n",
    "    return y_seq"
   ]
  },
  {
   "cell_type": "markdown",
   "metadata": {},
   "source": [
    "# Data Prep"
   ]
  },
  {
   "cell_type": "code",
   "execution_count": 3,
   "metadata": {},
   "outputs": [],
   "source": [
    "csv_root = 'csv_folder_3_class'\n",
    "loadData = LoadData(csv_root, isBalanced = True)\n",
    "shuffle = False\n",
    "full_ds, train_ds, val_ds, test_ds = loadData.getDatasets(shuffle = shuffle)"
   ]
  },
  {
   "cell_type": "code",
   "execution_count": 4,
   "metadata": {},
   "outputs": [],
   "source": [
    "test = False\n",
    "detrend = False\n",
    "sample_rate = 0.8"
   ]
  },
  {
   "cell_type": "code",
   "execution_count": 5,
   "metadata": {},
   "outputs": [],
   "source": [
    "scalerFitter = StandardScalerFitter(train_ds)\n",
    "scaler = scalerFitter.fit_scaler(test = test, detrend = detrend)"
   ]
  },
  {
   "cell_type": "code",
   "execution_count": 6,
   "metadata": {},
   "outputs": [],
   "source": [
    "X_train, y_train = scalerFitter.transform_subsample(train_ds, subsample_rate = sample_rate, shuffle = shuffle, detrend = detrend)\n",
    "X_val, y_val = scalerFitter.transform_subsample(val_ds, subsample_rate = sample_rate, shuffle = shuffle, detrend = detrend)\n",
    "#X_train, y_train = scalerFitter.subsample(train_ds)\n",
    "#X_val, y_val = scalerFitter.subsample(val_ds)\n",
    "\n",
    "n_samples_train, channels, timesteps = X_train.shape\n",
    "n_samples_val, _, _ = X_val.shape\n",
    "X_train = X_train.reshape((n_samples_train, channels*timesteps))\n",
    "X_val = X_val.reshape((n_samples_val, channels*timesteps))\n",
    "\n",
    "y_train = y_to_sequence(y_train)\n",
    "y_val = y_to_sequence(y_val)"
   ]
  },
  {
   "cell_type": "markdown",
   "metadata": {},
   "source": [
    "## UMAP"
   ]
  },
  {
   "cell_type": "code",
   "execution_count": null,
   "metadata": {},
   "outputs": [],
   "source": [
    "seed = 55\n",
    "reducer = umap.UMAP(low_memory = True, random_state = seed)\n",
    "trans = reducer.fit(X_train)"
   ]
  },
  {
   "cell_type": "code",
   "execution_count": null,
   "metadata": {},
   "outputs": [],
   "source": [
    "plt.scatter(trans.embedding_[:, 0], trans.embedding_[:, 1], s= 3, c=y_train, cmap='jet')\n",
    "plt.title('Embedding of the training set by UMAP', fontsize=24);"
   ]
  },
  {
   "cell_type": "markdown",
   "metadata": {},
   "source": [
    "#### KNN and SVC"
   ]
  },
  {
   "cell_type": "code",
   "execution_count": null,
   "metadata": {},
   "outputs": [],
   "source": [
    "knn = KNeighborsClassifier().fit(trans.embedding_, y_train.ravel())\n",
    "svc = SVC().fit(trans.embedding_, y_train.ravel())"
   ]
  },
  {
   "cell_type": "code",
   "execution_count": null,
   "metadata": {},
   "outputs": [],
   "source": [
    "# Score:\n",
    "svc.score(trans.transform(X_val), y_val), knn.score(trans.transform(X_val), y_val)"
   ]
  },
  {
   "cell_type": "markdown",
   "metadata": {},
   "source": [
    "TSNE og MDS"
   ]
  }
 ],
 "metadata": {
  "kernelspec": {
   "display_name": "Python 3",
   "language": "python",
   "name": "python3"
  },
  "language_info": {
   "codemirror_mode": {
    "name": "ipython",
    "version": 3
   },
   "file_extension": ".py",
   "mimetype": "text/x-python",
   "name": "python",
   "nbconvert_exporter": "python",
   "pygments_lexer": "ipython3",
   "version": "3.8.3"
  }
 },
 "nbformat": 4,
 "nbformat_minor": 4
}
