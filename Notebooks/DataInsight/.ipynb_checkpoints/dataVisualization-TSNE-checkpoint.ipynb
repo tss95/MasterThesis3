{
 "cells": [
  {
   "cell_type": "code",
   "execution_count": 1,
   "metadata": {},
   "outputs": [],
   "source": [
    "import numpy as np\n",
    "import pandas as pd\n",
    "\n",
    "import matplotlib.pyplot as plt\n",
    "import seaborn as sns\n",
    "\n",
    "import pylab as pl\n",
    "import time\n",
    "\n",
    "\n",
    "from DataGenerator import DataGenerator\n",
    "from Models import Models\n",
    "from LoadData import LoadData\n",
    "from BaselineHelperFunctions import BaselineHelperFunctions\n",
    "from RandomGridSearch import RandomGridSearch\n",
    "from CustomCallback import CustomCallback\n",
    "from MinMaxScalerFitter import MinMaxScalerFitter\n",
    "from StandardScalerFitter import StandardScalerFitter\n",
    "\n",
    "from sklearn.manifold import TSNE\n",
    "from sklearn.svm import SVC\n",
    "from sklearn.neighbors import KNeighborsClassifier\n",
    "import seaborn as sns\n",
    "\n",
    "from matplotlib.colors import ListedColormap\n",
    "%matplotlib inline\n",
    "plt.rcParams[\"figure.figsize\"]= (15,15)\n",
    "helper = BaselineHelperFunctions()\n",
    "\n",
    "import sys\n",
    "ISCOLAB = 'google.colab' in sys.modules\n",
    "\n",
    "import random\n",
    "import pprint\n",
    "sns.set(style='white', context='notebook', rc={'figure.figsize':(14,10)})\n"
   ]
  },
  {
   "cell_type": "code",
   "execution_count": 2,
   "metadata": {},
   "outputs": [],
   "source": [
    "def y_to_sequence(y):\n",
    "    label_dict = {'explosion':0, 'earthquake':1, 'noise':2, 'induced':3}\n",
    "    y_seq = np.empty((len(y), 1))\n",
    "    for idx, label in enumerate(y):\n",
    "        y_seq[idx] = label_dict.get(label[0])\n",
    "        \n",
    "    return y_seq# Data Prep"
   ]
  },
  {
   "cell_type": "markdown",
   "metadata": {},
   "source": [
    "# Data Prep"
   ]
  },
  {
   "cell_type": "code",
   "execution_count": 3,
   "metadata": {},
   "outputs": [],
   "source": [
    "csv_root = 'csv_folder_3_class'\n",
    "loadData = LoadData(csv_root, isBalanced = True)\n",
    "shuffle = False\n",
    "full_ds, train_ds, val_ds, test_ds = loadData.getDatasets(shuffle = shuffle)"
   ]
  },
  {
   "cell_type": "code",
   "execution_count": 4,
   "metadata": {},
   "outputs": [],
   "source": [
    "test = False\n",
    "detrend = False\n",
    "sample_rate = 0.8"
   ]
  },
  {
   "cell_type": "code",
   "execution_count": 5,
   "metadata": {},
   "outputs": [],
   "source": [
    "scalerFitter = StandardScalerFitter(train_ds)\n",
    "scaler = scalerFitter.fit_scaler(test = test, detrend = detrend)"
   ]
  },
  {
   "cell_type": "code",
   "execution_count": 6,
   "metadata": {},
   "outputs": [],
   "source": [
    "X_train, y_train = scalerFitter.transform_subsample(train_ds, subsample_rate = sample_rate, shuffle = shuffle, detrend = detrend)\n",
    "X_val, y_val = scalerFitter.transform_subsample(val_ds, subsample_rate = sample_rate, shuffle = shuffle, detrend = detrend)\n",
    "#X_train, y_train = scalerFitter.subsample(train_ds)\n",
    "#X_val, y_val = scalerFitter.subsample(val_ds)\n",
    "\n",
    "n_samples_train, channels, timesteps = X_train.shape\n",
    "n_samples_val, _, _ = X_val.shape\n",
    "X_train = X_train.reshape((n_samples_train, channels*timesteps))\n",
    "X_val = X_val.reshape((n_samples_val, channels*timesteps))\n",
    "\n",
    "y_train = y_to_sequence(y_train)\n",
    "y_val = y_to_sequence(y_val)"
   ]
  },
  {
   "cell_type": "markdown",
   "metadata": {},
   "source": [
    "## TSNE"
   ]
  },
  {
   "cell_type": "code",
   "execution_count": null,
   "metadata": {},
   "outputs": [
    {
     "name": "stdout",
     "output_type": "stream",
     "text": [
      "[t-SNE] Computing 121 nearest neighbors...\n",
      "[t-SNE] Indexed 13155 samples in 70.881s...\n"
     ]
    }
   ],
   "source": [
    "time_start = time.time()\n",
    "tsne = TSNE(n_components=2, verbose=1, perplexity=40, n_iter=300)\n",
    "tsne_results = tsne.fit_transform(X_train)\n",
    "print('t-SNE done! Time elapsed: {} seconds'.format(time.time()-time_start))"
   ]
  },
  {
   "cell_type": "code",
   "execution_count": null,
   "metadata": {},
   "outputs": [],
   "source": [
    "df_subset['tsne-2d-one'] = tsne_results[:,0]\n",
    "df_subset['tsne-2d-two'] = tsne_results[:,1]\n",
    "plt.figure(figsize=(16,10))\n",
    "sns.scatterplot(\n",
    "    x=\"tsne-2d-one\", y=\"tsne-2d-two\",\n",
    "    hue=\"y\",\n",
    "    palette=sns.color_palette(\"hls\", 10),\n",
    "    data=df_subset,\n",
    "    legend=\"full\",\n",
    "    alpha=0.3\n",
    ")"
   ]
  },
  {
   "cell_type": "markdown",
   "metadata": {},
   "source": [
    "## PCA"
   ]
  },
  {
   "cell_type": "code",
   "execution_count": null,
   "metadata": {},
   "outputs": [],
   "source": [
    "pca = PCA(n_components=3)\n",
    "pca_result = pca.fit_transform(X_train)\n",
    "df['pca-one'] = pca_result[:,0]\n",
    "df['pca-two'] = pca_result[:,1] \n",
    "df['pca-three'] = pca_result[:,2]\n",
    "print('Explained variation per principal component: {}'.format(pca.explained_variance_ratio_))"
   ]
  },
  {
   "cell_type": "code",
   "execution_count": null,
   "metadata": {},
   "outputs": [],
   "source": [
    "ax = plt.figure(figsize=(16,10)).gca(projection='3d')\n",
    "ax.scatter(\n",
    "    xs=df.loc[rndperm,:][\"pca-one\"], \n",
    "    ys=df.loc[rndperm,:][\"pca-two\"], \n",
    "    zs=df.loc[rndperm,:][\"pca-three\"], \n",
    "    c=df.loc[rndperm,:][\"y\"], \n",
    "    cmap='tab10'\n",
    ")\n",
    "ax.set_xlabel('pca-one')\n",
    "ax.set_ylabel('pca-two')\n",
    "ax.set_zlabel('pca-three')\n",
    "plt.show()\n"
   ]
  }
 ],
 "metadata": {
  "kernelspec": {
   "display_name": "Python 3",
   "language": "python",
   "name": "python3"
  },
  "language_info": {
   "codemirror_mode": {
    "name": "ipython",
    "version": 3
   },
   "file_extension": ".py",
   "mimetype": "text/x-python",
   "name": "python",
   "nbconvert_exporter": "python",
   "pygments_lexer": "ipython3",
   "version": "3.8.3"
  }
 },
 "nbformat": 4,
 "nbformat_minor": 4
}
