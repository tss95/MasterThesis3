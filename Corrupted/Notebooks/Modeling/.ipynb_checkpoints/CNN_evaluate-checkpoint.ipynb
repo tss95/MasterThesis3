{
 "cells": [
  {
   "cell_type": "code",
   "execution_count": 1,
   "id": "dressed-france",
   "metadata": {},
   "outputs": [
    {
     "name": "stdout",
     "output_type": "stream",
     "text": [
      "INFO:tensorflow:Mixed precision compatibility check (mixed_float16): OK\n",
      "Your GPU will likely run quickly with dtype policy mixed_float16 as it has compute capability of at least 7.0. Your GPU: GeForce RTX 3090, compute capability 8.6\n"
     ]
    }
   ],
   "source": [
    "import numpy as np\n",
    "import pandas as pd\n",
    "import h5py\n",
    "import gc\n",
    "\n",
    "import sklearn as sk\n",
    "\n",
    "import tensorflow as tf\n",
    "from tensorflow.keras import mixed_precision\n",
    "from tensorflow.keras.utils import GeneratorEnqueuer\n",
    "\n",
    "import os\n",
    "base_dir = '/media/tord/T7/Thesis_ssd/MasterThesis3'\n",
    "os.chdir(base_dir)\n",
    "\n",
    "from Classes.Modeling.LocalOptimizer import LocalOptimizer\n",
    "from Classes.Modeling.DynamicModels import DynamicModels\n",
    "from Classes.DataProcessing.LoadData import LoadData\n",
    "from Classes.DataProcessing.HelperFunctions import HelperFunctions\n",
    "from Classes.DataProcessing.DataHandler import DataHandler\n",
    "from Classes.DataProcessing.RamLoader import RamLoader\n",
    "from Classes.DataProcessing.ts_RamGenerator import data_generator\n",
    "\n",
    "\n",
    "import sys\n",
    "\n",
    "import time\n",
    "import datetime\n",
    "\n",
    "\n",
    "import random\n",
    "import pprint\n",
    "import re\n",
    "import json"
   ]
  },
  {
   "cell_type": "markdown",
   "id": "written-gibraltar",
   "metadata": {},
   "source": [
    "# Best Noise-not-noise CNN model evaluation"
   ]
  },
  {
   "cell_type": "code",
   "execution_count": 4,
   "id": "coastal-scale",
   "metadata": {},
   "outputs": [
    {
     "name": "stdout",
     "output_type": "stream",
     "text": [
      "2 3\n",
      "{'noise': 105999, 'earthquake': 105999, 'explosion': 102808}\n",
      "Mapping redundancy: [--------------------------------------->] 100 %\n",
      "\n"
     ]
    }
   ],
   "source": [
    "load_args = {\n",
    "    'earth_explo_only' : False,\n",
    "    'noise_earth_only' : False,\n",
    "    'noise_not_noise' : True,\n",
    "    'downsample' : True,\n",
    "    'upsample' : True,\n",
    "    'frac_diff' : 1,\n",
    "    'seed' : 1,\n",
    "    'subsample_size' : 0.25,\n",
    "    'balance_non_train_set' : True,\n",
    "    'use_true_test_set' : False,\n",
    "    'even_balance' : True\n",
    "}\n",
    "loadData = LoadData(**load_args)\n",
    "full_ds, train_ds, val_ds, test_ds = loadData.get_datasets()\n",
    "noise_ds = loadData.noise_ds\n",
    "handler = DataHandler(loadData)\n",
    "helper = HelperFunctions()"
   ]
  },
  {
   "cell_type": "code",
   "execution_count": 12,
   "id": "concerned-meeting",
   "metadata": {},
   "outputs": [
    {
     "name": "stdout",
     "output_type": "stream",
     "text": [
      "Model: \"model_1\"\n",
      "_________________________________________________________________\n",
      "Layer (type)                 Output Shape              Param #   \n",
      "=================================================================\n",
      "input_2 (InputLayer)         [(None, 6000, 3)]         0         \n",
      "_________________________________________________________________\n",
      "conv1d_1 (Conv1D)            (None, 6000, 74)          11618     \n",
      "_________________________________________________________________\n",
      "dropout_1 (Dropout)          (None, 6000, 74)          0         \n",
      "_________________________________________________________________\n",
      "batch_normalization_1 (Batch (None, 6000, 74)          296       \n",
      "_________________________________________________________________\n",
      "max_pooling1d_1 (MaxPooling1 (None, 3000, 74)          0         \n",
      "_________________________________________________________________\n",
      "activation_1 (Activation)    (None, 3000, 74)          0         \n",
      "_________________________________________________________________\n",
      "flatten_1 (Flatten)          (None, 222000)            0         \n",
      "_________________________________________________________________\n",
      "dense_3 (Dense)              (None, 290)               64380290  \n",
      "_________________________________________________________________\n",
      "dense_4 (Dense)              (None, 145)               42195     \n",
      "_________________________________________________________________\n",
      "dense_5 (Dense)              (None, 1)                 146       \n",
      "=================================================================\n",
      "Total params: 64,434,545\n",
      "Trainable params: 64,434,397\n",
      "Non-trainable params: 148\n",
      "_________________________________________________________________\n"
     ]
    }
   ],
   "source": [
    "model_nr_type = \"CNN\"\n",
    "num_classes = len(set(loadData.label_dict.values()))\n",
    "num_channels = 3\n",
    "\n",
    "optimizer = 'sgd'\n",
    "num_layers = 1\n",
    "learning_rate = 0.1\n",
    "epochs = 50\n",
    "batch_size = 64\n",
    "use_layerwise_dropout_batchnorm = True\n",
    "start_neurons = 290\n",
    "padding = 'same'\n",
    "output_layer_activation = 'sigmoid'\n",
    "l2_r = 0.1\n",
    "l1_r = 0.0001\n",
    "kernel_size = 52\n",
    "filters = 74\n",
    "dropout_rate = 0.0001\n",
    "decay_sequence = [1]\n",
    "activation = 'relu'\n",
    "\n",
    "timesteps = 6000\n",
    "\n",
    "optimizer = helper.get_optimizer(optimizer, learning_rate)\n",
    "\n",
    "model_args = helper.generate_build_model_args(model_nr_type, batch_size, dropout_rate, \n",
    "                                                               activation, output_layer_activation,\n",
    "                                                               l2_r, l1_r, start_neurons, filters, kernel_size, \n",
    "                                                               padding, \n",
    "                                                               num_layers = num_layers, \n",
    "                                                               is_lstm = True, \n",
    "                                                               num_classes = num_classes,\n",
    "                                                               decay_sequence = decay_sequence, \n",
    "                                                               channels = num_channels, \n",
    "                                                               timesteps = timesteps,\n",
    "                                                               use_layerwise_dropout_batchnorm = use_layerwise_dropout_batchnorm,\n",
    "                                                               )\n",
    "model = DynamicModels(**model_args).model\n"
   ]
  },
  {
   "cell_type": "code",
   "execution_count": 14,
   "id": "seeing-distance",
   "metadata": {},
   "outputs": [
    {
     "name": "stdout",
     "output_type": "stream",
     "text": [
      "Fit process completed after 219.09593892097473 seconds. Total datapoints fitted: 52600.\n",
      "Average time per datapoint: 0.004165322032718151\n",
      "\n",
      "\n",
      "Stage one loading training set, timeAug: [--------------------------------------->] 100 %\n",
      "\n",
      "Stage one loading validation set, timeAug: [--------------------------------------->] 100 %\n",
      "\n",
      "Fitting scaler progress: [------------------->] 100 %\n",
      "\n",
      "Stage two loading training set, labels and standard scaler: [--------------------------------------->] 100 %\n",
      "\n",
      "Stage two loading validation set, labels and standard scaler: [--------------------------------------->] 100 %\n",
      "\n",
      "Completed loading to RAM [--------------------------------------> ] 99 %\n"
     ]
    }
   ],
   "source": [
    "use_time_augmentor = True\n",
    "use_noise_augmentor = True\n",
    "scaler_name = \"standard\"\n",
    "filter_name = None\n",
    "band_min = 2\n",
    "band_max = 4\n",
    "highpass_freq = 5\n",
    "\n",
    "use_tensorboard = True\n",
    "use_liveplots = False\n",
    "use_custom_callback = True\n",
    "use_early_stopping = True\n",
    "start_from_scratch = False\n",
    "use_reduced_lr = True\n",
    "log_data = True\n",
    "\n",
    "\n",
    "ramLoader = RamLoader(loadData, \n",
    "                      handler, \n",
    "                      use_time_augmentor = use_time_augmentor, \n",
    "                      use_noise_augmentor = use_noise_augmentor, \n",
    "                      scaler_name = scaler_name,\n",
    "                      filter_name = filter_name, \n",
    "                      band_min = band_min,\n",
    "                      band_max = band_max,\n",
    "                      highpass_freq = highpass_freq, \n",
    "                      load_test_set = False)\n",
    "x_train, y_train, x_val, y_val, timeAug, scaler, noiseAug = ramLoader.load_to_ram()\n"
   ]
  },
  {
   "cell_type": "code",
   "execution_count": 15,
   "id": "available-phase",
   "metadata": {},
   "outputs": [],
   "source": [
    "train_enq = GeneratorEnqueuer(data_generator(x_train, y_train, batch_size, loadData, handler, noiseAug, num_channels = num_channels, is_lstm  = True), use_multiprocessing = False)\n",
    "val_enq = GeneratorEnqueuer(data_generator(x_val, y_val,batch_size, loadData, handler, noiseAug, num_channels = num_channels, is_lstm  = True), use_multiprocessing = False)\n",
    "train_enq.start(workers = 12, max_queue_size = 15)\n",
    "val_enq.start(workers = 12, max_queue_size = 15)\n",
    "train_gen = train_enq.get()\n",
    "val_gen = train_enq.get()"
   ]
  },
  {
   "cell_type": "code",
   "execution_count": 18,
   "id": "approved-underwear",
   "metadata": {},
   "outputs": [],
   "source": [
    "# Generate compiler args using picks\n",
    "model_compile_args = helper.generate_model_compile_args(optimizer, num_classes)\n",
    "# Compile model using generated args\n",
    "model.compile(**model_compile_args)"
   ]
  },
  {
   "cell_type": "code",
   "execution_count": 23,
   "id": "nuclear-fence",
   "metadata": {
    "scrolled": false
   },
   "outputs": [
    {
     "name": "stdout",
     "output_type": "stream",
     "text": [
      "Epoch 1/50\n",
      "616/616 [==============================] - 23s 32ms/step - loss: 4.9358 - binary_accuracy: 0.7165 - precision: 0.8274 - recall: 0.5379 - val_loss: 0.5003 - val_binary_accuracy: 0.7881 - val_precision: 0.9862 - val_recall: 0.5825\n",
      "Epoch 2/50\n",
      "616/616 [==============================] - 19s 31ms/step - loss: 0.4314 - binary_accuracy: 0.8609 - precision: 0.9153 - recall: 0.7904 - val_loss: 0.3305 - val_binary_accuracy: 0.8963 - val_precision: 0.9541 - val_recall: 0.8275\n",
      "Epoch 3/50\n",
      "616/616 [==============================] - 20s 32ms/step - loss: 0.3480 - binary_accuracy: 0.8748 - precision: 0.9079 - recall: 0.8317 - val_loss: 0.3424 - val_binary_accuracy: 0.8902 - val_precision: 0.9734 - val_recall: 0.7978\n",
      "Epoch 4/50\n",
      "616/616 [==============================] - 19s 31ms/step - loss: 0.5191 - binary_accuracy: 0.8905 - precision: 0.9162 - recall: 0.8590 - val_loss: 0.2868 - val_binary_accuracy: 0.8980 - val_precision: 0.9666 - val_recall: 0.8244\n",
      "Epoch 5/50\n",
      "616/616 [==============================] - 20s 32ms/step - loss: 0.3456 - binary_accuracy: 0.9013 - precision: 0.9172 - recall: 0.8801 - val_loss: 0.3684 - val_binary_accuracy: 0.8524 - val_precision: 0.9732 - val_recall: 0.7229\n",
      "Epoch 6/50\n",
      "616/616 [==============================] - 19s 31ms/step - loss: 0.2838 - binary_accuracy: 0.9074 - precision: 0.9286 - recall: 0.8812 - val_loss: 0.5042 - val_binary_accuracy: 0.9090 - val_precision: 0.9537 - val_recall: 0.8587\n",
      "Epoch 7/50\n",
      "616/616 [==============================] - 20s 32ms/step - loss: 0.2951 - binary_accuracy: 0.9065 - precision: 0.9246 - recall: 0.8824 - val_loss: 0.3491 - val_binary_accuracy: 0.8854 - val_precision: 0.9755 - val_recall: 0.7858\n",
      "Epoch 8/50\n",
      "616/616 [==============================] - 20s 32ms/step - loss: 0.2591 - binary_accuracy: 0.9092 - precision: 0.9314 - recall: 0.8816 - val_loss: 0.3192 - val_binary_accuracy: 0.8882 - val_precision: 0.9688 - val_recall: 0.7974\n",
      "Epoch 9/50\n",
      "616/616 [==============================] - 19s 31ms/step - loss: 0.2727 - binary_accuracy: 0.9135 - precision: 0.9406 - recall: 0.8816 - val_loss: 0.3335 - val_binary_accuracy: 0.8806 - val_precision: 0.9719 - val_recall: 0.7836\n",
      "\n",
      "Epoch 00009: ReduceLROnPlateau reducing learning rate to 0.0500000007451.\n",
      "Epoch 10/50\n",
      "616/616 [==============================] - 20s 32ms/step - loss: 0.2021 - binary_accuracy: 0.9364 - precision: 0.9534 - recall: 0.9165 - val_loss: 0.2211 - val_binary_accuracy: 0.9257 - val_precision: 0.9605 - val_recall: 0.8873\n",
      "Epoch 11/50\n",
      "616/616 [==============================] - 19s 32ms/step - loss: 0.1605 - binary_accuracy: 0.9484 - precision: 0.9609 - recall: 0.9336 - val_loss: 3.8502 - val_binary_accuracy: 0.8450 - val_precision: 0.8605 - val_recall: 0.8204\n",
      "Epoch 12/50\n",
      "616/616 [==============================] - 20s 32ms/step - loss: 1.1064 - binary_accuracy: 0.9066 - precision: 0.9283 - recall: 0.8773 - val_loss: 0.2527 - val_binary_accuracy: 0.9176 - val_precision: 0.9708 - val_recall: 0.8581\n",
      "Epoch 13/50\n",
      "616/616 [==============================] - 19s 31ms/step - loss: 0.1724 - binary_accuracy: 0.9422 - precision: 0.9577 - recall: 0.9234 - val_loss: 0.2195 - val_binary_accuracy: 0.9273 - val_precision: 0.9310 - val_recall: 0.9194\n",
      "Epoch 14/50\n",
      "616/616 [==============================] - 20s 32ms/step - loss: 0.1424 - binary_accuracy: 0.9551 - precision: 0.9653 - recall: 0.9438 - val_loss: 0.2433 - val_binary_accuracy: 0.9270 - val_precision: 0.9527 - val_recall: 0.8982\n",
      "Epoch 15/50\n",
      "616/616 [==============================] - 20s 32ms/step - loss: 0.1262 - binary_accuracy: 0.9616 - precision: 0.9699 - recall: 0.9521 - val_loss: 0.2025 - val_binary_accuracy: 0.9291 - val_precision: 0.9354 - val_recall: 0.9216\n",
      "Epoch 16/50\n",
      "616/616 [==============================] - 20s 32ms/step - loss: 0.1153 - binary_accuracy: 0.9658 - precision: 0.9722 - recall: 0.9579 - val_loss: 0.2475 - val_binary_accuracy: 0.9045 - val_precision: 0.8808 - val_recall: 0.9340\n",
      "Epoch 17/50\n",
      "616/616 [==============================] - 19s 32ms/step - loss: 0.1642 - binary_accuracy: 0.9482 - precision: 0.9653 - recall: 0.9281 - val_loss: 0.1457 - val_binary_accuracy: 0.9513 - val_precision: 0.9600 - val_recall: 0.9398\n",
      "Epoch 18/50\n",
      "616/616 [==============================] - 19s 32ms/step - loss: 0.1694 - binary_accuracy: 0.9526 - precision: 0.9712 - recall: 0.9318 - val_loss: 0.3725 - val_binary_accuracy: 0.8952 - val_precision: 0.9685 - val_recall: 0.8127\n",
      "Epoch 19/50\n",
      "616/616 [==============================] - 19s 31ms/step - loss: 0.1620 - binary_accuracy: 0.9507 - precision: 0.9749 - recall: 0.9238 - val_loss: 0.1997 - val_binary_accuracy: 0.9412 - val_precision: 0.9580 - val_recall: 0.9227\n",
      "Epoch 20/50\n",
      "616/616 [==============================] - 19s 32ms/step - loss: 0.1415 - binary_accuracy: 0.9580 - precision: 0.9723 - recall: 0.9421 - val_loss: 0.1950 - val_binary_accuracy: 0.9311 - val_precision: 0.9453 - val_recall: 0.9150\n",
      "\n",
      "Epoch 00020: ReduceLROnPlateau reducing learning rate to 0.0250000003725.\n",
      "Epoch 21/50\n",
      "616/616 [==============================] - 20s 32ms/step - loss: 0.0749 - binary_accuracy: 0.9790 - precision: 0.9857 - recall: 0.9716 - val_loss: 0.1371 - val_binary_accuracy: 0.9541 - val_precision: 0.9548 - val_recall: 0.9526\n",
      "Epoch 22/50\n",
      "616/616 [==============================] - 20s 32ms/step - loss: 0.0804 - binary_accuracy: 0.9781 - precision: 0.9851 - recall: 0.9702 - val_loss: 0.1174 - val_binary_accuracy: 0.9590 - val_precision: 0.9597 - val_recall: 0.9564\n",
      "Epoch 23/50\n",
      "616/616 [==============================] - 20s 33ms/step - loss: 0.0816 - binary_accuracy: 0.9761 - precision: 0.9838 - recall: 0.9675 - val_loss: 0.2004 - val_binary_accuracy: 0.9285 - val_precision: 0.9268 - val_recall: 0.9275\n",
      "Epoch 24/50\n",
      "616/616 [==============================] - 20s 32ms/step - loss: 0.1127 - binary_accuracy: 0.9793 - precision: 0.9862 - recall: 0.9718 - val_loss: 0.2068 - val_binary_accuracy: 0.9428 - val_precision: 0.9527 - val_recall: 0.9318\n",
      "Epoch 25/50\n",
      "616/616 [==============================] - 20s 32ms/step - loss: 0.0860 - binary_accuracy: 0.9795 - precision: 0.9853 - recall: 0.9729 - val_loss: 0.2053 - val_binary_accuracy: 0.9292 - val_precision: 0.9476 - val_recall: 0.9082\n",
      "\n",
      "Epoch 00025: ReduceLROnPlateau reducing learning rate to 0.0125000001863.\n",
      "Epoch 26/50\n",
      "616/616 [==============================] - 20s 32ms/step - loss: 0.0612 - binary_accuracy: 0.9848 - precision: 0.9899 - recall: 0.9791 - val_loss: 0.1440 - val_binary_accuracy: 0.9497 - val_precision: 0.9413 - val_recall: 0.9582\n",
      "Epoch 27/50\n",
      "616/616 [==============================] - 20s 32ms/step - loss: 0.0565 - binary_accuracy: 0.9837 - precision: 0.9887 - recall: 0.9781 - val_loss: 0.1006 - val_binary_accuracy: 0.9686 - val_precision: 0.9730 - val_recall: 0.9627\n",
      "Epoch 28/50\n",
      "616/616 [==============================] - 20s 32ms/step - loss: 0.0619 - binary_accuracy: 0.9825 - precision: 0.9891 - recall: 0.9754 - val_loss: 0.1732 - val_binary_accuracy: 0.9422 - val_precision: 0.9283 - val_recall: 0.9563\n",
      "Epoch 29/50\n",
      "616/616 [==============================] - 20s 32ms/step - loss: 0.0568 - binary_accuracy: 0.9860 - precision: 0.9902 - recall: 0.9813 - val_loss: 0.1705 - val_binary_accuracy: 0.9390 - val_precision: 0.9328 - val_recall: 0.9461\n",
      "Epoch 30/50\n",
      "616/616 [==============================] - 20s 32ms/step - loss: 0.0478 - binary_accuracy: 0.9870 - precision: 0.9911 - recall: 0.9825 - val_loss: 0.1552 - val_binary_accuracy: 0.9426 - val_precision: 0.9465 - val_recall: 0.9373\n",
      "\n",
      "Epoch 00030: ReduceLROnPlateau reducing learning rate to 0.00625000009313.\n",
      "Epoch 31/50\n",
      "616/616 [==============================] - 20s 32ms/step - loss: 0.0425 - binary_accuracy: 0.9886 - precision: 0.9917 - recall: 0.9852 - val_loss: 0.1175 - val_binary_accuracy: 0.9581 - val_precision: 0.9503 - val_recall: 0.9659\n",
      "Epoch 32/50\n",
      "616/616 [==============================] - 20s 32ms/step - loss: 0.0410 - binary_accuracy: 0.9883 - precision: 0.9928 - recall: 0.9832 - val_loss: 0.0940 - val_binary_accuracy: 0.9663 - val_precision: 0.9564 - val_recall: 0.9760\n",
      "Restoring model weights from the end of the best epoch.\n",
      "Epoch 00032: early stopping\n"
     ]
    },
    {
     "data": {
      "text/plain": [
       "<tensorflow.python.keras.callbacks.History at 0x7fb0e443d970>"
      ]
     },
     "execution_count": 23,
     "metadata": {},
     "output_type": "execute_result"
    }
   ],
   "source": [
    "use_tensorboard = True\n",
    "use_liveplots = False\n",
    "use_custom_callback = True\n",
    "use_early_stopping = True\n",
    "start_from_scratch = False\n",
    "use_reduced_lr = True\n",
    "log_data = True\n",
    "\n",
    "fit_args = helper.generate_fit_args(train_ds, val_ds, batch_size, \n",
    "                                         epochs, val_gen, use_tensorboard = use_tensorboard, \n",
    "                                         use_liveplots = use_liveplots, \n",
    "                                         use_custom_callback = use_custom_callback,\n",
    "                                         use_early_stopping = use_early_stopping,\n",
    "                                         use_reduced_lr = use_reduced_lr)\n",
    "\n",
    "model.fit(train_gen, **fit_args)"
   ]
  },
  {
   "cell_type": "code",
   "execution_count": 24,
   "id": "digital-colon",
   "metadata": {},
   "outputs": [
    {
     "name": "stdout",
     "output_type": "stream",
     "text": [
      "INFO:tensorflow:Assets written to: /media/tord/T7/Thesis_ssd/MasterThesis3/SavedModels/CNN/best_noise-not-noise-model/assets\n"
     ]
    }
   ],
   "source": [
    "save_dir = '/media/tord/T7/Thesis_ssd/MasterThesis3/SavedModels/CNN'\n",
    "model_name = 'best_noise-not-noise-model'\n",
    "model_path = f'{save_dir}/{model_name}'\n",
    "\n",
    "model.save(model_path)"
   ]
  },
  {
   "cell_type": "code",
   "execution_count": 121,
   "id": "anticipated-sword",
   "metadata": {},
   "outputs": [],
   "source": [
    "#re_x_val = np.reshape(x_val, (x_val.shape[0], x_val.shape[2], x_val.shape[1]))\n",
    "from sklearn.metrics import classification_report\n",
    "import matplotlib.pyplot as plt\n",
    "import sklearn\n",
    "\n",
    "def predict_model(model, x_test, y_test, class_dict):\n",
    "    num_predictions = len(y_test)\n",
    "    #true_labels_str = np.empty(())\n",
    "    predictions = model.predict(x_test)\n",
    "    predictions = convert_to_class(predictions)\n",
    "    predictions = predictions[:len(x_test)]\n",
    "    return predictions\n",
    "        \n",
    "    \n",
    "def convert_to_class(predictions):\n",
    "    if predictions.shape[1] == 1:\n",
    "        predictions = np.rint(predictions)\n",
    "        return predictions\n",
    "    raise Exception(\"More than two classes has not been implemented\")\n",
    "    \n",
    "\n",
    "def evaluate_model(model, x_test, y_test, label_dict, plot = True, run_evaluate = False):\n",
    "    if evaluate:\n",
    "        loss, accuracy, precision, recall = model.evaluate(x = x_test, y = y_test)\n",
    "    \n",
    "    predictions = predict_model(model, x_test, y_test, label_dict)\n",
    "    predictions = np.reshape(predictions, (predictions.shape[0]))\n",
    "    y_test = np.reshape(y_test, (y_test.shape[0]))\n",
    "    conf = tf.math.confusion_matrix(y_test, predictions, num_classes=2)\n",
    "    class_report = classification_report(y_test, predictions, target_names = handle_non_noise_dict(label_dict))\n",
    "    if plot:\n",
    "        plot_confusion_matrix(conf, label_dict)\n",
    "    print(conf)\n",
    "    print(class_report)\n",
    "    \n",
    "    \n",
    "    return conf, class_report\n",
    "\n",
    "def plot_confusion_matrix(conf, label_dict):\n",
    "    fig = plt.figure()\n",
    "    ax = fig.add_subplot(111)\n",
    "    cax = ax.matshow(conf)\n",
    "    labels = list(handle_non_noise_dict(label_dict))\n",
    "    plt.title('Confusion matrix of the classifier')\n",
    "    fig.colorbar(cax)\n",
    "    ax.set_xticklabels([''] + labels)\n",
    "    ax.set_yticklabels([''] + labels)\n",
    "    plt.xlabel('Predicted')\n",
    "    plt.ylabel('True')\n",
    "    print(conf.shape)\n",
    "    for i in range(conf.shape[0]):\n",
    "        for j in range(conf.shape[1]):\n",
    "            text = ax.text(j, i, int(conf[i, j]), ha=\"center\", va=\"center\", color=\"r\")\n",
    "    \n",
    "    plt.show()\n",
    "    \n",
    "    \n",
    "def handle_non_noise_dict(label_dict):\n",
    "    if len(list(set(label_dict.values()))) == 2 and len(list(label_dict.keys())) == 3:\n",
    "        label_dict = {'noise' : 0, 'not_noise' : 1}\n",
    "    return label_dict\n",
    "    \n"
   ]
  },
  {
   "cell_type": "code",
   "execution_count": 122,
   "id": "unlike-advance",
   "metadata": {},
   "outputs": [
    {
     "name": "stdout",
     "output_type": "stream",
     "text": [
      "247/247 [==============================] - 1s 4ms/step - loss: 0.2890 - binary_accuracy: 0.9389 - precision: 0.9470 - recall: 0.9286\n",
      "(2, 2)\n"
     ]
    },
    {
     "name": "stderr",
     "output_type": "stream",
     "text": [
      "<ipython-input-121-45728f55c9a3>:53: UserWarning: FixedFormatter should only be used together with FixedLocator\n",
      "  ax.set_xticklabels([''] + labels)\n",
      "<ipython-input-121-45728f55c9a3>:54: UserWarning: FixedFormatter should only be used together with FixedLocator\n",
      "  ax.set_yticklabels([''] + labels)\n"
     ]
    },
    {
     "data": {
      "image/png": "[encoded data removed]",
      "text/plain": [
       "<Figure size 432x288 with 2 Axes>"
      ]
     },
     "metadata": {
      "needs_background": "light"
     },
     "output_type": "display_data"
    },
    {
     "name": "stdout",
     "output_type": "stream",
     "text": [
      "tf.Tensor(\n",
      "[[3779  203]\n",
      " [ 279 3629]], shape=(2, 2), dtype=int32)\n",
      "              precision    recall  f1-score   support\n",
      "\n",
      "       noise       0.93      0.95      0.94      3982\n",
      "   not_noise       0.95      0.93      0.94      3908\n",
      "\n",
      "    accuracy                           0.94      7890\n",
      "   macro avg       0.94      0.94      0.94      7890\n",
      "weighted avg       0.94      0.94      0.94      7890\n",
      "\n"
     ]
    }
   ],
   "source": [
    "conf, report = evaluate_model(model, re_x_val, y_val, loadData.label_dict)"
   ]
  },
  {
   "cell_type": "code",
   "execution_count": 123,
   "id": "horizontal-chase",
   "metadata": {},
   "outputs": [
    {
     "name": "stdout",
     "output_type": "stream",
     "text": [
      "tf.Tensor(\n",
      "[[3779  203]\n",
      " [ 279 3629]], shape=(2, 2), dtype=int32)\n"
     ]
    }
   ],
   "source": [
    "print(conf)"
   ]
  },
  {
   "cell_type": "code",
   "execution_count": 81,
   "id": "mineral-shift",
   "metadata": {},
   "outputs": [
    {
     "name": "stdout",
     "output_type": "stream",
     "text": [
      "              precision    recall  f1-score   support\n",
      "\n",
      "       noise       0.93      0.95      0.94      3982\n",
      "   not_noise       0.95      0.93      0.94      3908\n",
      "\n",
      "    accuracy                           0.94      7890\n",
      "   macro avg       0.94      0.94      0.94      7890\n",
      "weighted avg       0.94      0.94      0.94      7890\n",
      "\n"
     ]
    }
   ],
   "source": [
    "print(report)"
   ]
  },
  {
   "cell_type": "code",
   "execution_count": null,
   "id": "latin-arabic",
   "metadata": {},
   "outputs": [],
   "source": []
  }
 ],
 "metadata": {
  "kernelspec": {
   "display_name": "thesis",
   "language": "python",
   "name": "thesis"
  },
  "language_info": {
   "codemirror_mode": {
    "name": "ipython",
    "version": 3
   },
   "file_extension": ".py",
   "mimetype": "text/x-python",
   "name": "python",
   "nbconvert_exporter": "python",
   "pygments_lexer": "ipython3",
   "version": "3.8.5"
  }
 },
 "nbformat": 4,
 "nbformat_minor": 5
}
